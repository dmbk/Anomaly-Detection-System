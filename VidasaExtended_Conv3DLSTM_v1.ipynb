{
  "nbformat": 4,
  "nbformat_minor": 0,
  "metadata": {
    "colab": {
      "name": "VidasaExtended-Conv3DLSTM",
      "provenance": [],
      "toc_visible": true,
      "machine_shape": "hm",
      "authorship_tag": "ABX9TyN7NJw21ZYqY3FC1qqaMuFI",
      "include_colab_link": true
    },
    "kernelspec": {
      "name": "python3",
      "display_name": "Python 3"
    },
    "accelerator": "GPU"
  },
  "cells": [
    {
      "cell_type": "markdown",
      "metadata": {
        "id": "view-in-github",
        "colab_type": "text"
      },
      "source": [
        "<a href=\"https://colab.research.google.com/github/dmbk/Anomaly-Detection-System/blob/master/VidasaExtended_Conv3DLSTM_v1.ipynb\" target=\"_parent\"><img src=\"https://colab.research.google.com/assets/colab-badge.svg\" alt=\"Open In Colab\"/></a>"
      ]
    },
    {
      "cell_type": "code",
      "metadata": {
        "id": "F1mPo2Rl7x8K",
        "colab_type": "code",
        "outputId": "035dc2bd-21be-42b4-ab68-f98c171fd6ae",
        "colab": {
          "base_uri": "https://localhost:8080/",
          "height": 69
        }
      },
      "source": [
        "#!pip install keras-layer-normalization\n",
        "!pip install imageio"
      ],
      "execution_count": 1,
      "outputs": [
        {
          "output_type": "stream",
          "text": [
            "Requirement already satisfied: imageio in /usr/local/lib/python3.6/dist-packages (2.4.1)\n",
            "Requirement already satisfied: pillow in /usr/local/lib/python3.6/dist-packages (from imageio) (6.2.2)\n",
            "Requirement already satisfied: numpy in /usr/local/lib/python3.6/dist-packages (from imageio) (1.17.5)\n"
          ],
          "name": "stdout"
        }
      ]
    },
    {
      "cell_type": "code",
      "metadata": {
        "id": "0UHZdNKz8KOS",
        "colab_type": "code",
        "outputId": "4552acb9-2268-4235-9dc8-5f419f8933a8",
        "colab": {
          "base_uri": "https://localhost:8080/",
          "height": 124
        }
      },
      "source": [
        "from google.colab import drive\n",
        "drive.mount('/content/drive', force_remount=True)"
      ],
      "execution_count": 2,
      "outputs": [
        {
          "output_type": "stream",
          "text": [
            "Go to this URL in a browser: https://accounts.google.com/o/oauth2/auth?client_id=947318989803-6bn6qk8qdgf4n4g3pfee6491hc0brc4i.apps.googleusercontent.com&redirect_uri=urn%3aietf%3awg%3aoauth%3a2.0%3aoob&response_type=code&scope=email%20https%3a%2f%2fwww.googleapis.com%2fauth%2fdocs.test%20https%3a%2f%2fwww.googleapis.com%2fauth%2fdrive%20https%3a%2f%2fwww.googleapis.com%2fauth%2fdrive.photos.readonly%20https%3a%2f%2fwww.googleapis.com%2fauth%2fpeopleapi.readonly\n",
            "\n",
            "Enter your authorization code:\n",
            "··········\n",
            "Mounted at /content/drive\n"
          ],
          "name": "stdout"
        }
      ]
    },
    {
      "cell_type": "code",
      "metadata": {
        "id": "Nge9O3wR8VVZ",
        "colab_type": "code",
        "outputId": "7bc2f26e-f514-4ccf-cb4d-86af0a0e2c90",
        "colab": {
          "base_uri": "https://localhost:8080/",
          "height": 34
        }
      },
      "source": [
        "from __future__ import absolute_import, division, print_function, unicode_literals\n",
        "try:\n",
        "  # %tensorflow_version only exists in Colab.\n",
        "  %tensorflow_version 2.x\n",
        "except Exception:\n",
        "  pass\n",
        "import tensorflow as tf\n",
        "import glob\n",
        "import imageio\n",
        "import matplotlib.pyplot as plt\n",
        "import numpy as np\n",
        "import os\n",
        "import PIL\n",
        "from PIL import Image\n",
        "from tensorflow.keras import layers\n",
        "import time\n",
        "\n",
        "from IPython import display\n",
        "\n",
        "from os.path import join\n",
        "from os import listdir\n",
        "from os.path import isfile, join, isdir\n",
        "\n",
        "#import keras\n",
        "from tensorflow.keras.callbacks import ModelCheckpoint\n",
        "from tensorflow.keras.layers import Conv2DTranspose, Conv3DTranspose, ConvLSTM2D, BatchNormalization, LayerNormalization, TimeDistributed, Conv2D, Conv3D, MaxPool3D, Flatten, Dense, Dropout\n",
        "from tensorflow.keras.models import Sequential, load_model\n",
        "\n",
        "import matplotlib.pyplot as plt\n",
        "import argparse\n",
        "from os.path import dirname\n",
        "import cv2\n",
        "from google.colab.patches import cv2_imshow\n",
        "\n",
        "\n",
        "tf.keras.backend.set_floatx('float32')\n"
      ],
      "execution_count": 3,
      "outputs": [
        {
          "output_type": "stream",
          "text": [
            "TensorFlow 2.x selected.\n"
          ],
          "name": "stdout"
        }
      ]
    },
    {
      "cell_type": "code",
      "metadata": {
        "id": "RdLkLR3r8d1K",
        "colab_type": "code",
        "colab": {}
      },
      "source": [
        "class Config:\n",
        "    def __init__(self, data_dir):\n",
        "        self.DATASET_PATH = join(data_dir,\"UCSDped1/Train\")\n",
        "        self.TEST_DIR = join(data_dir,\"UCSDped1/Test/\")\n",
        "        self.BATCH_SIZE = 4\n",
        "        self.EPOCHS = 10\n",
        "        self.MODEL_PATH = join(data_dir,\"model_conv3d_lstm_v1.hdf5\")\n",
        "        self.dim1 = 10\n",
        "        self.dim2 = 16\n",
        "        self.dim3 = 256\n",
        "        self.dim4 = 256\n",
        "        self.dim5 = 1\n",
        "\n",
        "conf = Config(data_dir=\"/content/drive/My Drive/UCSD_Anomaly_Dataset.v1p2/\") \n",
        "physical_devices = tf.config.list_physical_devices('GPU') \n",
        "try: \n",
        "  tf.config.experimental.set_memory_growth(physical_devices[0], True) \n",
        "except: \n",
        "  # Invalid device or cannot modify virtual devices once initialized. \n",
        "  pass"
      ],
      "execution_count": 0,
      "outputs": []
    },
    {
      "cell_type": "code",
      "metadata": {
        "id": "vncIs43R8uYV",
        "colab_type": "code",
        "outputId": "f0422a7c-6a8d-4bec-8c76-40c09a19399c",
        "colab": {
          "base_uri": "https://localhost:8080/",
          "height": 885
        }
      },
      "source": [
        "def get_model(reload_model=True):\n",
        "    \"\"\"\n",
        "        input dims = (10,16,256,256,1)\n",
        "    \"\"\"\n",
        "    if reload_model == True and os.path.isfile(conf.MODEL_PATH):\n",
        "        model=load_model(conf.MODEL_PATH,custom_objects={'LayerNormalization': LayerNormalization})\n",
        "        return model, True\n",
        "    print(\"Loading model\")\n",
        "    seq = Sequential()\n",
        "    seq.add(Conv3D(128, (3, 11, 11), strides=(1,4,4), padding=\"same\", input_shape=(conf.dim2, conf.dim3, conf.dim4, conf.dim5)))\n",
        "    seq.add(LayerNormalization())\n",
        "    seq.add(Conv3D(64, (3, 5, 5), strides=(1,2,2), padding=\"same\"))\n",
        "    seq.add(LayerNormalization())\n",
        "    seq.add(Conv3D(32, (3, 3, 3), strides=(1,2,2), padding=\"same\"))\n",
        "    seq.add(LayerNormalization())\n",
        "    # # # # #\n",
        "    seq.add(ConvLSTM2D(32, (3, 3), padding=\"same\", return_sequences=True))\n",
        "    seq.add(LayerNormalization())\n",
        "    seq.add(ConvLSTM2D(16, (3, 3), padding=\"same\", return_sequences=True))\n",
        "    seq.add(LayerNormalization())\n",
        "    seq.add(ConvLSTM2D(32, (3, 3), padding=\"same\", return_sequences=True))\n",
        "    seq.add(LayerNormalization())\n",
        "    # # # # #\n",
        "    seq.add(Conv3DTranspose(32, (3, 3, 3), strides=(1,2,2), padding=\"same\"))\n",
        "    seq.add(LayerNormalization())\n",
        "    seq.add(Conv3DTranspose(64, (3, 5, 5), strides=(1,2,2), padding=\"same\"))\n",
        "    seq.add(LayerNormalization())\n",
        "    seq.add(Conv3DTranspose(128, (3, 11, 11), strides=(1,4,4), padding=\"same\"))\n",
        "    seq.add(LayerNormalization())\n",
        "    seq.add(Conv3D(1, (3, 11, 11), activation=\"sigmoid\", padding=\"same\"))\n",
        "    print(seq.summary(line_length=150))\n",
        "    return seq, False\n",
        "\n",
        "def train_v1():\n",
        "    seq, loaded = get_model()\n",
        "    if loaded == True:\n",
        "        return seq\n",
        "\n",
        "    training_set = np.array(get_clips_list(conf.dim2))\n",
        "    #np_data.shape()\n",
        "\n",
        "    #dataset = tf.data.Dataset.from_tensor_slices(np_data).batch(conf.BATCH_SIZE)\n",
        "\n",
        "    seq.compile(loss='mse', optimizer=tf.optimizers.Adam(lr=1e-4, decay=1e-5, epsilon=1e-6))\n",
        "    !mkdir training_1\n",
        "    checkpoint_path = \"training_1/cp.ckpt\"\n",
        "    checkpoint_dir = dirname(checkpoint_path)\n",
        "\n",
        "    # Create a callback that saves the model's weights\n",
        "    cp_callback = ModelCheckpoint(filepath=checkpoint_path,save_weights_only=True,verbose=1)\n",
        "\n",
        "    seq.fit(training_set, training_set,\n",
        "            batch_size=conf.BATCH_SIZE, epochs=conf.EPOCHS, shuffle=False, callbacks=[cp_callback])\n",
        "    seq.save(conf.MODEL_PATH,save_format='h5')\n",
        "    return seq\n",
        "\n",
        "\n",
        "def get_loss(true_clips, pred_clips):\n",
        "    return tf.keras.losses.MSE(y_true=true_clips, y_pred=pred_clips)\n",
        "\n",
        "def get_optimizer():\n",
        "    return tf.optimizers.Adam(1e-4, decay=1e-5, epsilon=1e-6)\n",
        "\n",
        "@tf.function\n",
        "def train_step(clips, model, optimizer):    \n",
        "    with tf.GradientTape() as gen_tape, tf.GradientTape() as disc_tape:\n",
        "        reconstructed_clips = model(clips, training=True)\n",
        "        reconstruction_loss = get_loss(reconstructed_clips, clips)\n",
        "\n",
        "    gradients_of_model = gen_tape.gradient(reconstruction_loss, model.trainable_variables)\n",
        "    optimizer.apply_gradients(zip(gradients_of_model, model.trainable_variables))\n",
        "   \n",
        "def train():\n",
        "    model, loaded = get_model()\n",
        "    if loaded == True:\n",
        "        return model\n",
        "    np_data = np.array(get_training_set(conf.dim1))\n",
        "    #np_data.shape()\n",
        "\n",
        "    dataset = tf.data.Dataset.from_tensor_slices(np_data).batch(conf.BATCH_SIZE)\n",
        "    optimizer = get_optimizer()\n",
        "    for epoch in range(conf.EPOCHS):\n",
        "        start = time.time()\n",
        "    \n",
        "        for clips_batch in dataset:\n",
        "            train_step(clips_batch, model, optimizer)\n",
        "\n",
        "        display.clear_output(wait=True)\n",
        "\n",
        "        print ('Time for epoch {} is {} sec'.format(epoch + 1, time.time()-start))\n",
        "\n",
        "    model.save(conf.MODEL_PATH,save_format='h5')\n",
        "  \n",
        "    display.clear_output(wait=True)\n",
        "\n",
        "\n",
        "get_model()\n"
      ],
      "execution_count": 5,
      "outputs": [
        {
          "output_type": "stream",
          "text": [
            "Loading model\n",
            "Model: \"sequential\"\n",
            "______________________________________________________________________________________________________________________________________________________\n",
            "Layer (type)                                                       Output Shape                                                Param #                \n",
            "======================================================================================================================================================\n",
            "conv3d (Conv3D)                                                    (None, 16, 64, 64, 128)                                     46592                  \n",
            "______________________________________________________________________________________________________________________________________________________\n",
            "layer_normalization (LayerNormalization)                           (None, 16, 64, 64, 128)                                     256                    \n",
            "______________________________________________________________________________________________________________________________________________________\n",
            "conv3d_1 (Conv3D)                                                  (None, 16, 32, 32, 64)                                      614464                 \n",
            "______________________________________________________________________________________________________________________________________________________\n",
            "layer_normalization_1 (LayerNormalization)                         (None, 16, 32, 32, 64)                                      128                    \n",
            "______________________________________________________________________________________________________________________________________________________\n",
            "conv3d_2 (Conv3D)                                                  (None, 16, 16, 16, 32)                                      55328                  \n",
            "______________________________________________________________________________________________________________________________________________________\n",
            "layer_normalization_2 (LayerNormalization)                         (None, 16, 16, 16, 32)                                      64                     \n",
            "______________________________________________________________________________________________________________________________________________________\n",
            "conv_lst_m2d (ConvLSTM2D)                                          (None, 16, 16, 16, 32)                                      73856                  \n",
            "______________________________________________________________________________________________________________________________________________________\n",
            "layer_normalization_3 (LayerNormalization)                         (None, 16, 16, 16, 32)                                      64                     \n",
            "______________________________________________________________________________________________________________________________________________________\n",
            "conv_lst_m2d_1 (ConvLSTM2D)                                        (None, 16, 16, 16, 16)                                      27712                  \n",
            "______________________________________________________________________________________________________________________________________________________\n",
            "layer_normalization_4 (LayerNormalization)                         (None, 16, 16, 16, 16)                                      32                     \n",
            "______________________________________________________________________________________________________________________________________________________\n",
            "conv_lst_m2d_2 (ConvLSTM2D)                                        (None, 16, 16, 16, 32)                                      55424                  \n",
            "______________________________________________________________________________________________________________________________________________________\n",
            "layer_normalization_5 (LayerNormalization)                         (None, 16, 16, 16, 32)                                      64                     \n",
            "______________________________________________________________________________________________________________________________________________________\n",
            "conv3d_transpose (Conv3DTranspose)                                 (None, 16, 32, 32, 32)                                      27680                  \n",
            "______________________________________________________________________________________________________________________________________________________\n",
            "layer_normalization_6 (LayerNormalization)                         (None, 16, 32, 32, 32)                                      64                     \n",
            "______________________________________________________________________________________________________________________________________________________\n",
            "conv3d_transpose_1 (Conv3DTranspose)                               (None, 16, 64, 64, 64)                                      153664                 \n",
            "______________________________________________________________________________________________________________________________________________________\n",
            "layer_normalization_7 (LayerNormalization)                         (None, 16, 64, 64, 64)                                      128                    \n",
            "______________________________________________________________________________________________________________________________________________________\n",
            "conv3d_transpose_2 (Conv3DTranspose)                               (None, 16, 256, 256, 128)                                   2973824                \n",
            "______________________________________________________________________________________________________________________________________________________\n",
            "layer_normalization_8 (LayerNormalization)                         (None, 16, 256, 256, 128)                                   256                    \n",
            "______________________________________________________________________________________________________________________________________________________\n",
            "conv3d_3 (Conv3D)                                                  (None, 16, 256, 256, 1)                                     46465                  \n",
            "======================================================================================================================================================\n",
            "Total params: 4,076,065\n",
            "Trainable params: 4,076,065\n",
            "Non-trainable params: 0\n",
            "______________________________________________________________________________________________________________________________________________________\n",
            "None\n"
          ],
          "name": "stdout"
        },
        {
          "output_type": "execute_result",
          "data": {
            "text/plain": [
              "(<tensorflow.python.keras.engine.sequential.Sequential at 0x7fd47956b518>,\n",
              " False)"
            ]
          },
          "metadata": {
            "tags": []
          },
          "execution_count": 5
        }
      ]
    },
    {
      "cell_type": "code",
      "metadata": {
        "id": "yQG-jIK2UibT",
        "colab_type": "code",
        "colab": {}
      },
      "source": [
        "def get_clips_by_stride(stride, frames_list, sequence_size):\n",
        "    \"\"\" For data augmenting purposes.\n",
        "    Parameters\n",
        "    ----------\n",
        "    stride : int\n",
        "        The distance between two consecutive frames\n",
        "    frames_list : list\n",
        "        A list of sorted frames of shape 256 X 256\n",
        "    sequence_size: int\n",
        "        The size of the lstm sequence\n",
        "    Returns\n",
        "    -------\n",
        "    list\n",
        "        A list of clips , 32 frames each\n",
        "    \"\"\"\n",
        "    clips = []\n",
        "    sz = len(frames_list)\n",
        "    clip = np.zeros(shape=(sequence_size, 256, 256, 1))\n",
        "    cnt = 0\n",
        "    for start in range(0, stride):\n",
        "        for i in range(start, sz, stride):\n",
        "            clip[cnt, :, :, 0] = frames_list[i]\n",
        "            cnt = cnt + 1\n",
        "            if cnt == sequence_size:\n",
        "                clips.append(clip)\n",
        "                cnt = 0\n",
        "    return clips\n",
        "\n",
        "def get_clips_list(seq_size):\n",
        "    \"\"\"\n",
        "    seq_size :int \n",
        "        The sequence size of individual clip\n",
        "    Returns\n",
        "    -------\n",
        "    list\n",
        "        A list of training sequences of shape (NUMBER_OF_SEQUENCES,SINGLE_SEQUENCE_SIZE,FRAME_WIDTH,FRAME_HEIGHT,1)\n",
        "    \"\"\"\n",
        "    clips = []\n",
        "    # loop over the training folders (Train000,Train001,..)\n",
        "    for f in sorted(listdir(conf.DATASET_PATH)):\n",
        "        directory_path = join(conf.DATASET_PATH, f)\n",
        "        if isdir(directory_path):\n",
        "            all_frames = []\n",
        "            # loop over all the images in the folder (0.tif,1.tif,..,199.tif)\n",
        "            for c in sorted(listdir(directory_path)):\n",
        "                img_path = join(directory_path, c)\n",
        "                if str(img_path)[-3:] == \"tif\":\n",
        "                    img = Image.open(img_path).resize((256, 256))\n",
        "\n",
        "                    img = np.array(img, dtype=np.float32) / 256.0\n",
        "                    all_frames.append(img)\n",
        "            # get the 32-frames sequences from the list of images after applying data augmentation\n",
        "            for stride in range(1, 3):\n",
        "                clips.extend(get_clips_by_stride(stride=stride, frames_list=all_frames, sequence_size=seq_size))\n",
        "    return clips\n",
        "\n",
        "def get_training_set(clip_seq_size):\n",
        "    \"\"\"\n",
        "    clip_seq_size : int\n",
        "        size of a single clips group\n",
        "    Returns\n",
        "    -------\n",
        "    list\n",
        "        creates list of lists of frames \n",
        "    \"\"\"\n",
        "    #print(\"test0\")\n",
        "    clips_array = []\n",
        "    clips = get_clips_list(conf.dim2)\n",
        "    #print(clips[0])\n",
        "    tmp_clip = []\n",
        "    count = 0\n",
        "    for clip in clips:\n",
        "        tmp_clip.append(clip)\n",
        "        count = count +1\n",
        "        if count == clip_seq_size:\n",
        "            clips_array.append(tmp_clip)\n",
        "            tmp_clip = []\n",
        "            count = 0\n",
        "    return clips_array"
      ],
      "execution_count": 0,
      "outputs": []
    },
    {
      "cell_type": "code",
      "metadata": {
        "id": "U9GgGhfGy6Z2",
        "colab_type": "code",
        "colab": {}
      },
      "source": [
        "def get_single_test(single_test_path):\n",
        "    sz = 200\n",
        "    test = np.zeros(shape=(sz, conf.dim3, conf.dim4, conf.dim5))\n",
        "    cnt = 0\n",
        "    for f in sorted(listdir(single_test_path)):\n",
        "        if str(join(single_test_path, f))[-3:] == \"tif\":\n",
        "            img = Image.open(join(single_test_path, f)).resize((conf.dim3, conf.dim4))\n",
        "            #cv2_imshow(np.array(img,dtype=np.float32))\n",
        "            #cv2.waitKey(0)\n",
        "            img = np.array(img, dtype=np.float32) / 256\n",
        "            test[cnt, :, :, 0] = img\n",
        "            cnt = cnt + 1\n",
        "    return test\n"
      ],
      "execution_count": 0,
      "outputs": []
    },
    {
      "cell_type": "code",
      "metadata": {
        "id": "Cpy3WPYmykgv",
        "colab_type": "code",
        "colab": {}
      },
      "source": [
        "def evaluate(test_case_dir, model):\n",
        "\n",
        "    test = get_single_test(join(conf.TEST_DIR,test_case_dir))\n",
        "    print(\"Test case loaded\")\n",
        "    sz = test.shape[0] - conf.dim2\n",
        "    sequences = np.zeros((sz, conf.dim2, conf.dim3, conf.dim4, conf.dim5))\n",
        "    # apply the sliding window technique to get the sequences\n",
        "    for i in range(0, sz):\n",
        "        clip = np.zeros((conf.dim2, conf.dim3, conf.dim4, conf.dim5))\n",
        "        for j in range(0, conf.dim2):\n",
        "            clip[j] = test[i + j, :, :, :]\n",
        "        sequences[i] = clip\n",
        "\n",
        "    #sz_10x = sequences.shape[0] - conf.dim1\n",
        "    #sequences_10x = np.zeros((sz_10x, conf.dim1, conf.dim2, conf.dim3, conf.dim4, conf.dim5))\n",
        "    #count = 0\n",
        "    #for k in range(0, sz_10x):\n",
        "    #    clip_10x = np.zeros((conf.dim1, conf.dim2, conf.dim3, conf.dim4, conf.dim5))\n",
        "    #    for l in range(0, conf.dim1):\n",
        "    #        clip_10x[l] = sequences[k + l, :, :, :, :] \n",
        "    #    sequences_10x[k] = clip_10x\n",
        "\n",
        "    # get the reconstruction cost of all the sequences\n",
        "    reconstructed_sequences = model.predict(sequences,batch_size=conf.BATCH_SIZE)\n",
        "\n",
        "    #reconstruction shape = (sz_10x, 10, 16, 256, 256, 1)\n",
        "    sequences_reconstruction_cost = np.array([np.linalg.norm(np.subtract(sequences[i],reconstructed_sequences[i])) for i in range(0,sz)])\n",
        "    sa = (sequences_reconstruction_cost - np.min(sequences_reconstruction_cost)) / np.max(sequences_reconstruction_cost)\n",
        "    sr = 1.0 - sa\n",
        "    #print(sr.shape())\n",
        "    \n",
        "    plt.plot(sr)\n",
        "    plt.ylabel('regularity score Sr(t)')\n",
        "    plt.xlabel('frame t')\n",
        "    plt.show()\n",
        "    #sr = sigmoid(sr)\n",
        "    # plot the regularity scores\n",
        "    plt.plot(sr)\n",
        "    plt.ylabel('regularity score Sr(t)')\n",
        "    plt.xlabel('frame t')\n",
        "    plt.show()"
      ],
      "execution_count": 0,
      "outputs": []
    },
    {
      "cell_type": "code",
      "metadata": {
        "id": "bqgGWUrKk30t",
        "colab_type": "code",
        "outputId": "84cb0b66-6699-4049-c3fc-cfb43c4f36de",
        "colab": {
          "base_uri": "https://localhost:8080/",
          "height": 1000
        }
      },
      "source": [
        "\n",
        "\n",
        "model = train_v1()\n",
        "print(\"Model Loaded\")\n",
        "evaluate(\"Test022\", model)"
      ],
      "execution_count": 9,
      "outputs": [
        {
          "output_type": "stream",
          "text": [
            "Loading model\n",
            "Model: \"sequential_1\"\n",
            "______________________________________________________________________________________________________________________________________________________\n",
            "Layer (type)                                                       Output Shape                                                Param #                \n",
            "======================================================================================================================================================\n",
            "conv3d_4 (Conv3D)                                                  (None, 16, 64, 64, 128)                                     46592                  \n",
            "______________________________________________________________________________________________________________________________________________________\n",
            "layer_normalization_9 (LayerNormalization)                         (None, 16, 64, 64, 128)                                     256                    \n",
            "______________________________________________________________________________________________________________________________________________________\n",
            "conv3d_5 (Conv3D)                                                  (None, 16, 32, 32, 64)                                      614464                 \n",
            "______________________________________________________________________________________________________________________________________________________\n",
            "layer_normalization_10 (LayerNormalization)                        (None, 16, 32, 32, 64)                                      128                    \n",
            "______________________________________________________________________________________________________________________________________________________\n",
            "conv3d_6 (Conv3D)                                                  (None, 16, 16, 16, 32)                                      55328                  \n",
            "______________________________________________________________________________________________________________________________________________________\n",
            "layer_normalization_11 (LayerNormalization)                        (None, 16, 16, 16, 32)                                      64                     \n",
            "______________________________________________________________________________________________________________________________________________________\n",
            "conv_lst_m2d_3 (ConvLSTM2D)                                        (None, 16, 16, 16, 32)                                      73856                  \n",
            "______________________________________________________________________________________________________________________________________________________\n",
            "layer_normalization_12 (LayerNormalization)                        (None, 16, 16, 16, 32)                                      64                     \n",
            "______________________________________________________________________________________________________________________________________________________\n",
            "conv_lst_m2d_4 (ConvLSTM2D)                                        (None, 16, 16, 16, 16)                                      27712                  \n",
            "______________________________________________________________________________________________________________________________________________________\n",
            "layer_normalization_13 (LayerNormalization)                        (None, 16, 16, 16, 16)                                      32                     \n",
            "______________________________________________________________________________________________________________________________________________________\n",
            "conv_lst_m2d_5 (ConvLSTM2D)                                        (None, 16, 16, 16, 32)                                      55424                  \n",
            "______________________________________________________________________________________________________________________________________________________\n",
            "layer_normalization_14 (LayerNormalization)                        (None, 16, 16, 16, 32)                                      64                     \n",
            "______________________________________________________________________________________________________________________________________________________\n",
            "conv3d_transpose_3 (Conv3DTranspose)                               (None, 16, 32, 32, 32)                                      27680                  \n",
            "______________________________________________________________________________________________________________________________________________________\n",
            "layer_normalization_15 (LayerNormalization)                        (None, 16, 32, 32, 32)                                      64                     \n",
            "______________________________________________________________________________________________________________________________________________________\n",
            "conv3d_transpose_4 (Conv3DTranspose)                               (None, 16, 64, 64, 64)                                      153664                 \n",
            "______________________________________________________________________________________________________________________________________________________\n",
            "layer_normalization_16 (LayerNormalization)                        (None, 16, 64, 64, 64)                                      128                    \n",
            "______________________________________________________________________________________________________________________________________________________\n",
            "conv3d_transpose_5 (Conv3DTranspose)                               (None, 16, 256, 256, 128)                                   2973824                \n",
            "______________________________________________________________________________________________________________________________________________________\n",
            "layer_normalization_17 (LayerNormalization)                        (None, 16, 256, 256, 128)                                   256                    \n",
            "______________________________________________________________________________________________________________________________________________________\n",
            "conv3d_7 (Conv3D)                                                  (None, 16, 256, 256, 1)                                     46465                  \n",
            "======================================================================================================================================================\n",
            "Total params: 4,076,065\n",
            "Trainable params: 4,076,065\n",
            "Non-trainable params: 0\n",
            "______________________________________________________________________________________________________________________________________________________\n",
            "None\n",
            "Train on 816 samples\n",
            "Epoch 1/10\n",
            "812/816 [============================>.] - ETA: 5s - loss: 0.0147 \n",
            "Epoch 00001: saving model to training_1/cp.ckpt\n",
            "816/816 [==============================] - 1065s 1s/sample - loss: 0.0147\n",
            "Epoch 2/10\n",
            "812/816 [============================>.] - ETA: 4s - loss: 0.0064\n",
            "Epoch 00002: saving model to training_1/cp.ckpt\n",
            "816/816 [==============================] - 1019s 1s/sample - loss: 0.0063\n",
            "Epoch 3/10\n",
            "812/816 [============================>.] - ETA: 4s - loss: 0.0053\n",
            "Epoch 00003: saving model to training_1/cp.ckpt\n",
            "816/816 [==============================] - 1019s 1s/sample - loss: 0.0053\n",
            "Epoch 4/10\n",
            "812/816 [============================>.] - ETA: 4s - loss: 0.0047\n",
            "Epoch 00004: saving model to training_1/cp.ckpt\n",
            "816/816 [==============================] - 1019s 1s/sample - loss: 0.0047\n",
            "Epoch 5/10\n",
            "812/816 [============================>.] - ETA: 4s - loss: 0.0042\n",
            "Epoch 00005: saving model to training_1/cp.ckpt\n",
            "816/816 [==============================] - 1019s 1s/sample - loss: 0.0041\n",
            "Epoch 6/10\n",
            "812/816 [============================>.] - ETA: 4s - loss: 0.0038\n",
            "Epoch 00006: saving model to training_1/cp.ckpt\n",
            "816/816 [==============================] - 1019s 1s/sample - loss: 0.0038\n",
            "Epoch 7/10\n",
            "812/816 [============================>.] - ETA: 4s - loss: 0.0035\n",
            "Epoch 00007: saving model to training_1/cp.ckpt\n",
            "816/816 [==============================] - 1019s 1s/sample - loss: 0.0035\n",
            "Epoch 8/10\n",
            "812/816 [============================>.] - ETA: 4s - loss: 0.0033\n",
            "Epoch 00008: saving model to training_1/cp.ckpt\n",
            "816/816 [==============================] - 1019s 1s/sample - loss: 0.0033\n",
            "Epoch 9/10\n",
            "812/816 [============================>.] - ETA: 4s - loss: 0.0031\n",
            "Epoch 00009: saving model to training_1/cp.ckpt\n",
            "816/816 [==============================] - 1019s 1s/sample - loss: 0.0031\n",
            "Epoch 10/10\n",
            "812/816 [============================>.] - ETA: 4s - loss: 0.0030\n",
            "Epoch 00010: saving model to training_1/cp.ckpt\n",
            "816/816 [==============================] - 1019s 1s/sample - loss: 0.0029\n",
            "Model Loaded\n",
            "Test case loaded\n"
          ],
          "name": "stdout"
        },
        {
          "output_type": "display_data",
          "data": {
            "image/png": "[encoded data removed]",
            "text/plain": [
              "<Figure size 432x288 with 1 Axes>"
            ]
          },
          "metadata": {
            "tags": []
          }
        },
        {
          "output_type": "display_data",
          "data": {
            "image/png": "[encoded data removed]",
            "text/plain": [
              "<Figure size 432x288 with 1 Axes>"
            ]
          },
          "metadata": {
            "tags": []
          }
        }
      ]
    }
  ]
}