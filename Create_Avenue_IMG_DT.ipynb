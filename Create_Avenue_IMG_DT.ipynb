{
  "nbformat": 4,
  "nbformat_minor": 0,
  "metadata": {
    "colab": {
      "name": "Create_Avenue_IMG_DT.ipynb",
      "provenance": [],
      "authorship_tag": "ABX9TyMQl4LrF+/MF90KivZ5qkaB",
      "include_colab_link": true
    },
    "kernelspec": {
      "name": "python3",
      "display_name": "Python 3"
    }
  },
  "cells": [
    {
      "cell_type": "markdown",
      "metadata": {
        "id": "view-in-github",
        "colab_type": "text"
      },
      "source": [
        "<a href=\"https://colab.research.google.com/github/dmbk/Anomaly-Detection-System/blob/master/Create_Avenue_IMG_DT.ipynb\" target=\"_parent\"><img src=\"https://colab.research.google.com/assets/colab-badge.svg\" alt=\"Open In Colab\"/></a>"
      ]
    },
    {
      "cell_type": "code",
      "metadata": {
        "id": "RChPISOlrapJ",
        "colab_type": "code",
        "colab": {
          "base_uri": "https://localhost:8080/",
          "height": 124
        },
        "outputId": "c15ca6ca-a8e7-4a3d-a143-eba438dde0bf"
      },
      "source": [
        "from google.colab import drive\n",
        "#!pip install alive-progress\n",
        "drive.mount('/content/drive', force_remount=True)"
      ],
      "execution_count": 1,
      "outputs": [
        {
          "output_type": "stream",
          "text": [
            "Go to this URL in a browser: https://accounts.google.com/o/oauth2/auth?client_id=947318989803-6bn6qk8qdgf4n4g3pfee6491hc0brc4i.apps.googleusercontent.com&redirect_uri=urn%3aietf%3awg%3aoauth%3a2.0%3aoob&response_type=code&scope=email%20https%3a%2f%2fwww.googleapis.com%2fauth%2fdocs.test%20https%3a%2f%2fwww.googleapis.com%2fauth%2fdrive%20https%3a%2f%2fwww.googleapis.com%2fauth%2fdrive.photos.readonly%20https%3a%2f%2fwww.googleapis.com%2fauth%2fpeopleapi.readonly\n",
            "\n",
            "Enter your authorization code:\n",
            "··········\n",
            "Mounted at /content/drive\n"
          ],
          "name": "stdout"
        }
      ]
    },
    {
      "cell_type": "code",
      "metadata": {
        "id": "6O3fGAdrrF6L",
        "colab_type": "code",
        "colab": {}
      },
      "source": [
        "\n",
        "from __future__ import absolute_import, division, print_function, unicode_literals\n",
        "try:\n",
        "  # %tensorflow_version only exists in Colab.\n",
        "  %tensorflow_version 2.x\n",
        "except Exception:\n",
        "  pass\n",
        "\n",
        "import skimage\n",
        "import glob\n",
        "import imageio\n",
        "import matplotlib.pyplot as plt\n",
        "import numpy as np\n",
        "import os\n",
        "import PIL\n",
        "from PIL import Image\n",
        "from os.path import join\n",
        "from os import listdir\n",
        "from os.path import isfile, join, isdir\n",
        "\n",
        "#import keras\n",
        "import argparse\n",
        "from os.path import dirname\n",
        "import cv2\n",
        "from google.colab.patches import cv2_imshow\n",
        "\t\n",
        "import statistics\n",
        "import shutil\n",
        "\n",
        "import matplotlib.pyplot as plt\n",
        "\n",
        "import time\n",
        "#from progress.bar import IncrementalBar\n",
        "\n",
        "import numpy as np"
      ],
      "execution_count": 0,
      "outputs": []
    },
    {
      "cell_type": "code",
      "metadata": {
        "id": "UncTTQwoq7SE",
        "colab_type": "code",
        "colab": {}
      },
      "source": [
        "def cap_video(file_path):\n",
        "\n",
        "    cap = cv2.VideoCapture(file_path)\n",
        "    if (cap.isOpened()== False):\n",
        "        print(\"Error opening video stream or file\")\n",
        "\n",
        "    frames = []\n",
        "    count = 0\n",
        "    while(cap.isOpened()):\n",
        "        ret, frame = cap.read()\n",
        "        count = count +1\n",
        "        if count%10 != 0:\n",
        "            continue\n",
        "        if ret == True:\n",
        "            frame = cv2.cvtColor(frame, cv2.COLOR_BGR2GRAY)\n",
        "            frame = cv2.resize(frame, (256, 256))\n",
        "            #frame = np.array(frame, dtype=np.float32) / 256.0\n",
        "            frames.append(frame)\n",
        "        else: \n",
        "            break\n",
        "    cap.release()\n",
        "    cv2.destroyAllWindows()\n",
        "    return frames\n",
        "\n",
        "\n",
        "def create_images(do=0):\n",
        "    if do == 0:\n",
        "        return\n",
        "    for i in range(1,22):\n",
        "        if i < 10:\n",
        "            vid_num = \"0\"+str(i)\n",
        "        elif i < 100:\n",
        "            vid_num = str(i)\n",
        "        else:\n",
        "            vid_num = str(i) \n",
        "\n",
        "        test = cap_video(join(\"/content/drive/My Drive/AVDT/testing_videos/\",str(vid_num)+\".avi\"))\n",
        "        \n",
        "        dir_name = str(vid_num)\n",
        "        if(i < 100):\n",
        "            dir_name = \"0\"+dir_name\n",
        "        path =  \"/content/drive/My Drive/AVDT_TEST/testing_videos/Test\"+dir_name\n",
        "        os.makedirs(path, exist_ok=True)\n",
        "        img_num = \"\"\n",
        "        for x, frame in enumerate(test):\n",
        "            j = x+1\n",
        "            if j < 10:\n",
        "                img_num = \"00\"+str(j)\n",
        "            elif j < 100:\n",
        "                img_num = \"0\"+str(j)\n",
        "            else:\n",
        "                img_num = str(j)\n",
        "            #frame = np.reshape(frame, (256, 256))*256\n",
        "            cv2.imwrite(join(path,img_num+\".jpg\"), frame)\n",
        "\n",
        "  #if img_num == \"017\":\n",
        "  #  continue\n",
        "\n",
        " \n",
        "  \n",
        "  \n",
        "create_images(1)\n"
      ],
      "execution_count": 0,
      "outputs": []
    }
  ]
}