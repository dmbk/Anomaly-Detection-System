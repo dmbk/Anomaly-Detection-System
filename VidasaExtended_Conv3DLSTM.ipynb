{
  "nbformat": 4,
  "nbformat_minor": 0,
  "metadata": {
    "colab": {
      "name": "VidasaExtended-Conv3DLSTM",
      "provenance": [],
      "authorship_tag": "ABX9TyPFbsLbkJHliVczqAx1Ag5o",
      "include_colab_link": true
    },
    "kernelspec": {
      "name": "python3",
      "display_name": "Python 3"
    }
  },
  "cells": [
    {
      "cell_type": "markdown",
      "metadata": {
        "id": "view-in-github",
        "colab_type": "text"
      },
      "source": [
        "<a href=\"https://colab.research.google.com/github/dmbk/Anomaly-Detection-System/blob/master/VidasaExtended_Conv3DLSTM.ipynb\" target=\"_parent\"><img src=\"https://colab.research.google.com/assets/colab-badge.svg\" alt=\"Open In Colab\"/></a>"
      ]
    },
    {
      "cell_type": "code",
      "metadata": {
        "id": "F1mPo2Rl7x8K",
        "colab_type": "code",
        "colab": {}
      },
      "source": [
        "!pip install keras-layer-normalization\n",
        "!pip install imageio"
      ],
      "execution_count": 0,
      "outputs": []
    },
    {
      "cell_type": "code",
      "metadata": {
        "id": "0UHZdNKz8KOS",
        "colab_type": "code",
        "outputId": "68d86b3a-4448-4a27-94bd-f00103dfaee9",
        "colab": {
          "base_uri": "https://localhost:8080/",
          "height": 124
        }
      },
      "source": [
        "from google.colab import drive\n",
        "drive.mount('/content/drive', force_remount=True)"
      ],
      "execution_count": 0,
      "outputs": [
        {
          "output_type": "stream",
          "text": [
            "Go to this URL in a browser: https://accounts.google.com/o/oauth2/auth?client_id=947318989803-6bn6qk8qdgf4n4g3pfee6491hc0brc4i.apps.googleusercontent.com&redirect_uri=urn%3aietf%3awg%3aoauth%3a2.0%3aoob&response_type=code&scope=email%20https%3a%2f%2fwww.googleapis.com%2fauth%2fdocs.test%20https%3a%2f%2fwww.googleapis.com%2fauth%2fdrive%20https%3a%2f%2fwww.googleapis.com%2fauth%2fdrive.photos.readonly%20https%3a%2f%2fwww.googleapis.com%2fauth%2fpeopleapi.readonly\n",
            "\n",
            "Enter your authorization code:\n",
            "··········\n",
            "Mounted at /content/drive\n"
          ],
          "name": "stdout"
        }
      ]
    },
    {
      "cell_type": "code",
      "metadata": {
        "id": "Nge9O3wR8VVZ",
        "colab_type": "code",
        "colab": {
          "base_uri": "https://localhost:8080/",
          "height": 34
        },
        "outputId": "9ea32f58-b94b-4d3f-c151-00924cfce8c9"
      },
      "source": [
        "from __future__ import absolute_import, division, print_function, unicode_literals\n",
        "try:\n",
        "  # %tensorflow_version only exists in Colab.\n",
        "  %tensorflow_version 2.x\n",
        "except Exception:\n",
        "  pass\n",
        "import tensorflow as tf\n",
        "import glob\n",
        "import imageio\n",
        "import matplotlib.pyplot as plt\n",
        "import numpy as np\n",
        "import os\n",
        "import PIL\n",
        "from PIL import Image\n",
        "from tensorflow.keras import layers\n",
        "import time\n",
        "\n",
        "from IPython import display\n",
        "\n",
        "from os.path import join\n",
        "from os import listdir\n",
        "from os.path import isfile, join, isdir\n",
        "\n",
        "#import keras\n",
        "from tensorflow.keras.callbacks import ModelCheckpoint\n",
        "from tensorflow.keras.layers import Conv2DTranspose, Conv3DTranspose, ConvLSTM2D, BatchNormalization, LayerNormalization, TimeDistributed, Conv2D, Conv3D, MaxPool3D, Flatten, Dense, Dropout\n",
        "from tensorflow.keras.models import Sequential, load_model\n",
        "\n",
        "import matplotlib.pyplot as plt\n",
        "import argparse\n",
        "from os.path import dirname\n",
        "import cv2\n",
        "from google.colab.patches import cv2_imshow"
      ],
      "execution_count": 1,
      "outputs": [
        {
          "output_type": "stream",
          "text": [
            "TensorFlow 2.x selected.\n"
          ],
          "name": "stdout"
        }
      ]
    },
    {
      "cell_type": "code",
      "metadata": {
        "id": "RdLkLR3r8d1K",
        "colab_type": "code",
        "colab": {}
      },
      "source": [
        "class Config:\n",
        "    def __init__(self, data_dir):\n",
        "        self.DATASET_PATH = join(data_dir,\"UCSDped1/Train\")\n",
        "        self.SINGLE_TEST_PATH = join(data_dir,\"UCSDped1/Test/Test010\")\n",
        "        self.TEST_DIR = join(data_dir,\"UCSDped1/Test/\")\n",
        "        self.BATCH_SIZE = 4\n",
        "        self.EPOCHS = 3\n",
        "        self.MODEL_PATH = join(data_dir,\"model_conv3d_lstm.hdf5\")\n",
        "\n",
        "conf = Config(data_dir=\"/content/drive/My Drive/UCSD_Anomaly_Dataset.v1p2/\") \n",
        "physical_devices = tf.config.list_physical_devices('GPU') \n",
        "try: \n",
        "  tf.config.experimental.set_memory_growth(physical_devices[0], True) \n",
        "except: \n",
        "  # Invalid device or cannot modify virtual devices once initialized. \n",
        "  pass"
      ],
      "execution_count": 0,
      "outputs": []
    },
    {
      "cell_type": "code",
      "metadata": {
        "id": "vncIs43R8uYV",
        "colab_type": "code",
        "outputId": "35103da1-b287-469d-9426-3dce49931634",
        "colab": {
          "base_uri": "https://localhost:8080/",
          "height": 833
        }
      },
      "source": [
        "def get_model(reload_model=False):\n",
        "\n",
        "    if reload_model:\n",
        "        return load_model(conf.MODEL_PATH,custom_objects={'LayerNormalization': LayerNormalization})\n",
        "    seq = Sequential()\n",
        "    seq.add(TimeDistributed(Conv3D(128, (11, 11, 11), strides=4, padding=\"same\"), batch_input_shape=(None, 10, 32, 256, 256, 1)))\n",
        "    seq.add(LayerNormalization())\n",
        "    seq.add(TimeDistributed(Conv3D(64, (5, 5, 5), strides=2, padding=\"same\")))\n",
        "    seq.add(LayerNormalization())\n",
        "    seq.add(TimeDistributed(Conv3D(32, (3, 3, 3), strides=1, padding=\"same\")))\n",
        "    seq.add(LayerNormalization())\n",
        "    # # # # #\n",
        "    seq.add(TimeDistributed(ConvLSTM2D(64, (3, 3), padding=\"same\", return_sequences=True)))\n",
        "    seq.add(LayerNormalization())\n",
        "    seq.add(TimeDistributed(ConvLSTM2D(32, (3, 3), padding=\"same\", return_sequences=True)))\n",
        "    seq.add(LayerNormalization())\n",
        "    seq.add(TimeDistributed(ConvLSTM2D(64, (3, 3), padding=\"same\", return_sequences=True)))\n",
        "    seq.add(LayerNormalization())\n",
        "    # # # # #\n",
        "    seq.add(TimeDistributed(Conv3DTranspose(32, (3, 3, 3), strides=1, padding=\"same\")))\n",
        "    seq.add(LayerNormalization())\n",
        "    seq.add(TimeDistributed(Conv3DTranspose(64, (5, 5, 5), strides=2, padding=\"same\")))\n",
        "    seq.add(LayerNormalization())\n",
        "    seq.add(TimeDistributed(Conv3DTranspose(128, (11, 11, 11), strides=4, padding=\"same\")))\n",
        "    seq.add(LayerNormalization())\n",
        "    seq.add(TimeDistributed(Conv3D(1, (11, 11, 11), activation=\"sigmoid\", padding=\"same\")))\n",
        "    print(seq.summary())\n",
        "    return seq\n",
        "\n",
        "model =  get_model()\n",
        "\n",
        "def get_loss(true_clips, pred_clips):\n",
        "    return tf.keras.losses.MSE(y_true=true_clips, y_pred=pred_clips)\n",
        "\n",
        "def get_optimizer():\n",
        "    return tf.optimizers.Adam(1e-4, decay=1e-5, epsilon=1e-6)\n",
        "    \n",
        "optimizer = get_optimizer()\n",
        "\n",
        "@tf.function\n",
        "def train_step(images):    \n",
        "    with tf.GradientTape() as gen_tape, tf.GradientTape() as disc_tape:\n",
        "        reconstructed_clips = model(clips, training=True)\n",
        "        reconstruction_loss = get_loss(reconstructed_clips, clips)\n",
        "\n",
        "    gradients_of_model = gen_tape.gradient(reconstruction_loss, model.trainable_variables)\n",
        "    optimizer.apply_gradients(zip(gradients_of_model, model.trainable_variables))\n",
        "   \n",
        "\n",
        "#get_model()"
      ],
      "execution_count": 6,
      "outputs": [
        {
          "output_type": "stream",
          "text": [
            "Model: \"sequential_2\"\n",
            "_________________________________________________________________\n",
            "Layer (type)                 Output Shape              Param #   \n",
            "=================================================================\n",
            "time_distributed_20 (TimeDis (None, 10, 8, 64, 64, 128 170496    \n",
            "_________________________________________________________________\n",
            "layer_normalization_18 (Laye (None, 10, 8, 64, 64, 128 256       \n",
            "_________________________________________________________________\n",
            "time_distributed_21 (TimeDis (None, 10, 4, 32, 32, 64) 1024064   \n",
            "_________________________________________________________________\n",
            "layer_normalization_19 (Laye (None, 10, 4, 32, 32, 64) 128       \n",
            "_________________________________________________________________\n",
            "time_distributed_22 (TimeDis (None, 10, 4, 32, 32, 32) 55328     \n",
            "_________________________________________________________________\n",
            "layer_normalization_20 (Laye (None, 10, 4, 32, 32, 32) 64        \n",
            "_________________________________________________________________\n",
            "time_distributed_23 (TimeDis (None, 10, 4, 32, 32, 64) 221440    \n",
            "_________________________________________________________________\n",
            "layer_normalization_21 (Laye (None, 10, 4, 32, 32, 64) 128       \n",
            "_________________________________________________________________\n",
            "time_distributed_24 (TimeDis (None, 10, 4, 32, 32, 32) 110720    \n",
            "_________________________________________________________________\n",
            "layer_normalization_22 (Laye (None, 10, 4, 32, 32, 32) 64        \n",
            "_________________________________________________________________\n",
            "time_distributed_25 (TimeDis (None, 10, 4, 32, 32, 64) 221440    \n",
            "_________________________________________________________________\n",
            "layer_normalization_23 (Laye (None, 10, 4, 32, 32, 64) 128       \n",
            "_________________________________________________________________\n",
            "time_distributed_26 (TimeDis (None, 10, 4, 32, 32, 32) 55328     \n",
            "_________________________________________________________________\n",
            "layer_normalization_24 (Laye (None, 10, 4, 32, 32, 32) 64        \n",
            "_________________________________________________________________\n",
            "time_distributed_27 (TimeDis (None, 10, 8, 64, 64, 64) 256064    \n",
            "_________________________________________________________________\n",
            "layer_normalization_25 (Laye (None, 10, 8, 64, 64, 64) 128       \n",
            "_________________________________________________________________\n",
            "time_distributed_28 (TimeDis (None, 10, 32, 256, 256,  10903680  \n",
            "_________________________________________________________________\n",
            "layer_normalization_26 (Laye (None, 10, 32, 256, 256,  256       \n",
            "_________________________________________________________________\n",
            "time_distributed_29 (TimeDis (None, 10, 32, 256, 256,  170369    \n",
            "=================================================================\n",
            "Total params: 13,190,145\n",
            "Trainable params: 13,190,145\n",
            "Non-trainable params: 0\n",
            "_________________________________________________________________\n",
            "None\n"
          ],
          "name": "stdout"
        }
      ]
    }
  ]
}