{
  "nbformat": 4,
  "nbformat_minor": 0,
  "metadata": {
    "colab": {
      "name": "VidasaExtended-Conv3DLSTM",
      "provenance": [],
      "authorship_tag": "ABX9TyNqrCM3pLleIRQDa30B823X",
      "include_colab_link": true
    },
    "kernelspec": {
      "name": "python3",
      "display_name": "Python 3"
    }
  },
  "cells": [
    {
      "cell_type": "markdown",
      "metadata": {
        "id": "view-in-github",
        "colab_type": "text"
      },
      "source": [
        "<a href=\"https://colab.research.google.com/github/dmbk/Anomaly-Detection-System/blob/master/VidasaExtended_Conv3DLSTM.ipynb\" target=\"_parent\"><img src=\"https://colab.research.google.com/assets/colab-badge.svg\" alt=\"Open In Colab\"/></a>"
      ]
    },
    {
      "cell_type": "code",
      "metadata": {
        "id": "F1mPo2Rl7x8K",
        "colab_type": "code",
        "colab": {}
      },
      "source": [
        "#!pip install keras-layer-normalization\n",
        "!pip install imageio"
      ],
      "execution_count": 0,
      "outputs": []
    },
    {
      "cell_type": "code",
      "metadata": {
        "id": "0UHZdNKz8KOS",
        "colab_type": "code",
        "outputId": "3fe93f32-3219-40ac-aee0-c6fe13428beb",
        "colab": {
          "base_uri": "https://localhost:8080/",
          "height": 124
        }
      },
      "source": [
        "from google.colab import drive\n",
        "drive.mount('/content/drive', force_remount=True)"
      ],
      "execution_count": 73,
      "outputs": [
        {
          "output_type": "stream",
          "text": [
            "Go to this URL in a browser: https://accounts.google.com/o/oauth2/auth?client_id=947318989803-6bn6qk8qdgf4n4g3pfee6491hc0brc4i.apps.googleusercontent.com&redirect_uri=urn%3aietf%3awg%3aoauth%3a2.0%3aoob&response_type=code&scope=email%20https%3a%2f%2fwww.googleapis.com%2fauth%2fdocs.test%20https%3a%2f%2fwww.googleapis.com%2fauth%2fdrive%20https%3a%2f%2fwww.googleapis.com%2fauth%2fdrive.photos.readonly%20https%3a%2f%2fwww.googleapis.com%2fauth%2fpeopleapi.readonly\n",
            "\n",
            "Enter your authorization code:\n",
            "··········\n",
            "Mounted at /content/drive\n"
          ],
          "name": "stdout"
        }
      ]
    },
    {
      "cell_type": "code",
      "metadata": {
        "id": "Nge9O3wR8VVZ",
        "colab_type": "code",
        "colab": {}
      },
      "source": [
        "from __future__ import absolute_import, division, print_function, unicode_literals\n",
        "try:\n",
        "  # %tensorflow_version only exists in Colab.\n",
        "  %tensorflow_version 2.x\n",
        "except Exception:\n",
        "  pass\n",
        "import tensorflow as tf\n",
        "import glob\n",
        "import imageio\n",
        "import matplotlib.pyplot as plt\n",
        "import numpy as np\n",
        "import os\n",
        "import PIL\n",
        "from PIL import Image\n",
        "from tensorflow.keras import layers\n",
        "import time\n",
        "\n",
        "from IPython import display\n",
        "\n",
        "from os.path import join\n",
        "from os import listdir\n",
        "from os.path import isfile, join, isdir\n",
        "\n",
        "#import keras\n",
        "from tensorflow.keras.callbacks import ModelCheckpoint\n",
        "from tensorflow.keras.layers import Conv2DTranspose, Conv3DTranspose, ConvLSTM2D, BatchNormalization, LayerNormalization, TimeDistributed, Conv2D, Conv3D, MaxPool3D, Flatten, Dense, Dropout\n",
        "from tensorflow.keras.models import Sequential, load_model\n",
        "\n",
        "import matplotlib.pyplot as plt\n",
        "import argparse\n",
        "from os.path import dirname\n",
        "import cv2\n",
        "from google.colab.patches import cv2_imshow"
      ],
      "execution_count": 0,
      "outputs": []
    },
    {
      "cell_type": "code",
      "metadata": {
        "id": "RdLkLR3r8d1K",
        "colab_type": "code",
        "colab": {}
      },
      "source": [
        "class Config:\n",
        "    def __init__(self, data_dir):\n",
        "        self.DATASET_PATH = join(data_dir,\"UCSDped1/Train\")\n",
        "        self.TEST_DIR = join(data_dir,\"UCSDped1/Test/\")\n",
        "        self.BATCH_SIZE = 4\n",
        "        self.EPOCHS = 3\n",
        "        self.MODEL_PATH = join(data_dir,\"model_conv3d_lstm.hdf5\")\n",
        "        self.dim1 = 10\n",
        "        self.dim2 = 16\n",
        "        self.dim3 = 256\n",
        "        self.dim4 = 256\n",
        "        self.dim5 = 1\n",
        "\n",
        "conf = Config(data_dir=\"/content/drive/My Drive/UCSD_Anomaly_Dataset.v1p2/\") \n",
        "physical_devices = tf.config.list_physical_devices('GPU') \n",
        "try: \n",
        "  tf.config.experimental.set_memory_growth(physical_devices[0], True) \n",
        "except: \n",
        "  # Invalid device or cannot modify virtual devices once initialized. \n",
        "  pass"
      ],
      "execution_count": 0,
      "outputs": []
    },
    {
      "cell_type": "code",
      "metadata": {
        "id": "vncIs43R8uYV",
        "colab_type": "code",
        "outputId": "4a60f0bb-4bf1-4e54-9c23-af7ff5c7b89e",
        "colab": {
          "base_uri": "https://localhost:8080/",
          "height": 851
        }
      },
      "source": [
        "def get_model(reload_model=True):\n",
        "    \"\"\"\n",
        "        input dims = (10,16,256,256,1)\n",
        "    \"\"\"\n",
        "    if reload_model == True and os.path.isfile(conf.MODEL_PATH):\n",
        "        model=load_model(conf.MODEL_PATH,custom_objects={'LayerNormalization': LayerNormalization})\n",
        "        return model\n",
        " \n",
        "    seq = Sequential()\n",
        "    seq.add(TimeDistributed(Conv3D(256, (3, 11, 11), strides=(1,4,4), padding=\"same\"), batch_input_shape=(None, conf.dim1, conf.dim2, conf.dim3, conf.dim4, conf.dim5)))\n",
        "    seq.add(LayerNormalization())\n",
        "    seq.add(TimeDistributed(Conv3D(128, (3, 5, 5), strides=(1,2,2), padding=\"same\")))\n",
        "    seq.add(LayerNormalization())\n",
        "    seq.add(TimeDistributed(Conv3D(64, (3, 3, 3), strides=(1,2,2), padding=\"same\")))\n",
        "    seq.add(LayerNormalization())\n",
        "    # # # # #\n",
        "    seq.add(TimeDistributed(ConvLSTM2D(64, (3, 3), padding=\"same\", return_sequences=True)))\n",
        "    seq.add(LayerNormalization())\n",
        "    seq.add(TimeDistributed(ConvLSTM2D(32, (3, 3), padding=\"same\", return_sequences=True)))\n",
        "    seq.add(LayerNormalization())\n",
        "    seq.add(TimeDistributed(ConvLSTM2D(64, (3, 3), padding=\"same\", return_sequences=True)))\n",
        "    seq.add(LayerNormalization())\n",
        "    # # # # #\n",
        "    seq.add(TimeDistributed(Conv3DTranspose(64, (3, 3, 3), strides=(1,2,2), padding=\"same\")))\n",
        "    seq.add(LayerNormalization())\n",
        "    seq.add(TimeDistributed(Conv3DTranspose(128, (3, 5, 5), strides=(1,2,2), padding=\"same\")))\n",
        "    seq.add(LayerNormalization())\n",
        "    seq.add(TimeDistributed(Conv3DTranspose(256, (3, 11, 11), strides=(1,4,4), padding=\"same\")))\n",
        "    seq.add(LayerNormalization())\n",
        "    seq.add(TimeDistributed(Conv3D(1, (5, 11, 11), activation=\"sigmoid\", padding=\"same\")))\n",
        "    print(seq.summary(line_length=150))\n",
        "    return seq\n",
        "\n",
        "def get_loss(true_clips, pred_clips):\n",
        "    return tf.keras.losses.MSE(y_true=true_clips, y_pred=pred_clips)\n",
        "\n",
        "def get_optimizer():\n",
        "    return tf.optimizers.Adam(1e-4, decay=1e-5, epsilon=1e-6)\n",
        "\n",
        "@tf.function\n",
        "def train_step(clips, model, optimizer):    \n",
        "    with tf.GradientTape() as gen_tape, tf.GradientTape() as disc_tape:\n",
        "        reconstructed_clips = model(clips, training=True)\n",
        "        reconstruction_loss = get_loss(reconstructed_clips, clips)\n",
        "\n",
        "    gradients_of_model = gen_tape.gradient(reconstruction_loss, model.trainable_variables)\n",
        "    optimizer.apply_gradients(zip(gradients_of_model, model.trainable_variables))\n",
        "   \n",
        "def train(dataset, conf):\n",
        "    model = get_model()\n",
        "    optimizer = get_optimizeer()\n",
        "    for epoch in range(conf.EPOCHS):\n",
        "        start = time.time()\n",
        "    \n",
        "        for clips_batch in dataset:\n",
        "            train_step(clips_batch, model, optimizer)\n",
        "\n",
        "        display.clear_output(wait=True)\n",
        "\n",
        "        print ('Time for epoch {} is {} sec'.format(epoch + 1, time.time()-start))\n",
        "\n",
        "    model.save(conf.MODEL_PATH,save_format='h5')\n",
        "  \n",
        "    display.clear_output(wait=True)\n",
        "\n",
        "\n",
        "#get_model()\n"
      ],
      "execution_count": 76,
      "outputs": [
        {
          "output_type": "stream",
          "text": [
            "Model: \"sequential_49\"\n",
            "______________________________________________________________________________________________________________________________________________________\n",
            "Layer (type)                                                       Output Shape                                                Param #                \n",
            "======================================================================================================================================================\n",
            "time_distributed_513 (TimeDistributed)                             (None, 10, 16, 64, 64, 256)                                 93184                  \n",
            "______________________________________________________________________________________________________________________________________________________\n",
            "layer_normalization_440 (LayerNormalization)                       (None, 10, 16, 64, 64, 256)                                 512                    \n",
            "______________________________________________________________________________________________________________________________________________________\n",
            "time_distributed_514 (TimeDistributed)                             (None, 10, 16, 32, 32, 128)                                 2457728                \n",
            "______________________________________________________________________________________________________________________________________________________\n",
            "layer_normalization_441 (LayerNormalization)                       (None, 10, 16, 32, 32, 128)                                 256                    \n",
            "______________________________________________________________________________________________________________________________________________________\n",
            "time_distributed_515 (TimeDistributed)                             (None, 10, 16, 16, 16, 64)                                  221248                 \n",
            "______________________________________________________________________________________________________________________________________________________\n",
            "layer_normalization_442 (LayerNormalization)                       (None, 10, 16, 16, 16, 64)                                  128                    \n",
            "______________________________________________________________________________________________________________________________________________________\n",
            "time_distributed_516 (TimeDistributed)                             (None, 10, 16, 16, 16, 64)                                  295168                 \n",
            "______________________________________________________________________________________________________________________________________________________\n",
            "layer_normalization_443 (LayerNormalization)                       (None, 10, 16, 16, 16, 64)                                  128                    \n",
            "______________________________________________________________________________________________________________________________________________________\n",
            "time_distributed_517 (TimeDistributed)                             (None, 10, 16, 16, 16, 32)                                  110720                 \n",
            "______________________________________________________________________________________________________________________________________________________\n",
            "layer_normalization_444 (LayerNormalization)                       (None, 10, 16, 16, 16, 32)                                  64                     \n",
            "______________________________________________________________________________________________________________________________________________________\n",
            "time_distributed_518 (TimeDistributed)                             (None, 10, 16, 16, 16, 64)                                  221440                 \n",
            "______________________________________________________________________________________________________________________________________________________\n",
            "layer_normalization_445 (LayerNormalization)                       (None, 10, 16, 16, 16, 64)                                  128                    \n",
            "______________________________________________________________________________________________________________________________________________________\n",
            "time_distributed_519 (TimeDistributed)                             (None, 10, 16, 32, 32, 64)                                  110656                 \n",
            "______________________________________________________________________________________________________________________________________________________\n",
            "layer_normalization_446 (LayerNormalization)                       (None, 10, 16, 32, 32, 64)                                  128                    \n",
            "______________________________________________________________________________________________________________________________________________________\n",
            "time_distributed_520 (TimeDistributed)                             (None, 10, 16, 64, 64, 128)                                 614528                 \n",
            "______________________________________________________________________________________________________________________________________________________\n",
            "layer_normalization_447 (LayerNormalization)                       (None, 10, 16, 64, 64, 128)                                 256                    \n",
            "______________________________________________________________________________________________________________________________________________________\n",
            "time_distributed_521 (TimeDistributed)                             (None, 10, 16, 256, 256, 256)                               11895040               \n",
            "______________________________________________________________________________________________________________________________________________________\n",
            "layer_normalization_448 (LayerNormalization)                       (None, 10, 16, 256, 256, 256)                               512                    \n",
            "______________________________________________________________________________________________________________________________________________________\n",
            "time_distributed_522 (TimeDistributed)                             (None, 10, 16, 256, 256, 1)                                 154881                 \n",
            "======================================================================================================================================================\n",
            "Total params: 16,176,705\n",
            "Trainable params: 16,176,705\n",
            "Non-trainable params: 0\n",
            "______________________________________________________________________________________________________________________________________________________\n",
            "None\n"
          ],
          "name": "stdout"
        },
        {
          "output_type": "execute_result",
          "data": {
            "text/plain": [
              "<tensorflow.python.keras.engine.sequential.Sequential at 0x7f43c81e15f8>"
            ]
          },
          "metadata": {
            "tags": []
          },
          "execution_count": 76
        }
      ]
    },
    {
      "cell_type": "code",
      "metadata": {
        "id": "yQG-jIK2UibT",
        "colab_type": "code",
        "colab": {}
      },
      "source": [
        "def get_clips_by_stride(stride, frames_list, sequence_size):\n",
        "    \"\"\" For data augmenting purposes.\n",
        "    Parameters\n",
        "    ----------\n",
        "    stride : int\n",
        "        The distance between two consecutive frames\n",
        "    frames_list : list\n",
        "        A list of sorted frames of shape 256 X 256\n",
        "    sequence_size: int\n",
        "        The size of the lstm sequence\n",
        "    Returns\n",
        "    -------\n",
        "    list\n",
        "        A list of clips , 32 frames each\n",
        "    \"\"\"\n",
        "    clips = []\n",
        "    sz = len(frames_list)\n",
        "    clip = np.zeros(shape=(sequence_size, 256, 256, 1))\n",
        "    cnt = 0\n",
        "    for start in range(0, stride):\n",
        "        for i in range(start, sz, stride):\n",
        "            clip[cnt, :, :, 0] = frames_list[i]\n",
        "            cnt = cnt + 1\n",
        "            if cnt == sequence_size:\n",
        "                clips.append(clip)\n",
        "                cnt = 0\n",
        "    return clips\n",
        "\n",
        "def get_clips_list(seq_size):\n",
        "    \"\"\"\n",
        "    seq_size :int \n",
        "        The sequence size of individual clip\n",
        "    Returns\n",
        "    -------\n",
        "    list\n",
        "        A list of training sequences of shape (NUMBER_OF_SEQUENCES,SINGLE_SEQUENCE_SIZE,FRAME_WIDTH,FRAME_HEIGHT,1)\n",
        "    \"\"\"\n",
        "    clips = []\n",
        "    # loop over the training folders (Train000,Train001,..)\n",
        "    for f in sorted(listdir(conf.DATASET_PATH)):\n",
        "        directory_path = join(conf.DATASET_PATH, f)\n",
        "        if isdir(directory_path):\n",
        "            all_frames = []\n",
        "            # loop over all the images in the folder (0.tif,1.tif,..,199.tif)\n",
        "            for c in sorted(listdir(directory_path)):\n",
        "                img_path = join(directory_path, c)\n",
        "                if str(img_path)[-3:] == \"tif\":\n",
        "                    img = Image.open(img_path).resize((256, 256))\n",
        "\n",
        "                    img = np.array(img, dtype=np.float32) / 256.0\n",
        "                    all_frames.append(img)\n",
        "            # get the 32-frames sequences from the list of images after applying data augmentation\n",
        "            for stride in range(1, 3):\n",
        "                clips.extend(get_clips_by_stride(stride=stride, frames_list=all_frames, sequence_size=seq_size))\n",
        "    return clips\n",
        "\n",
        "def get_training_set(clip_seq_size):\n",
        "    \"\"\"\n",
        "    clip_seq_size : int\n",
        "        size of a single clips group\n",
        "    Returns\n",
        "    -------\n",
        "    list\n",
        "        creates list of lists of frames \n",
        "    \"\"\"\n",
        "    clips_array = []\n",
        "    clips = get_clips_list(conf.dim2)\n",
        "    tmp_clip = []\n",
        "    count = 0\n",
        "    for clip in clips:\n",
        "        tmp_clip.append(clip)\n",
        "        count = count +1\n",
        "        if count == clip_seq_size:\n",
        "            clips_array.append(tmp_clip)\n",
        "            count = 0\n"
      ],
      "execution_count": 0,
      "outputs": []
    },
    {
      "cell_type": "code",
      "metadata": {
        "id": "U9GgGhfGy6Z2",
        "colab_type": "code",
        "colab": {}
      },
      "source": [
        "def get_single_test(single_test_path):\n",
        "    sz = 200\n",
        "    test = np.zeros(shape=(sz, conf.dim3, conf.dim4, conf.dim5))\n",
        "    cnt = 0\n",
        "    for f in sorted(listdir(single_test_path)):\n",
        "        if str(join(single_test_path, f))[-3:] == \"tif\":\n",
        "            img = Image.open(join(single_test_path, f)).resize((conf.dim3, conf.dim4))\n",
        "            #cv2_imshow(np.array(img,dtype=np.float32))\n",
        "            #cv2.waitKey(0)\n",
        "            img = np.array(img, dtype=np.float32) / 256\n",
        "            test[cnt, :, :, 0] = img\n",
        "            cnt = cnt + 1\n",
        "    return test\n"
      ],
      "execution_count": 0,
      "outputs": []
    },
    {
      "cell_type": "code",
      "metadata": {
        "id": "Cpy3WPYmykgv",
        "colab_type": "code",
        "colab": {}
      },
      "source": [
        "def evaluate(test_case_dir):\n",
        "    model = get_model(True)\n",
        "    print(\"Model Loaded\")\n",
        "    test = get_single_test(join(conf.TEST_DIR,test_case_dir))\n",
        "    print(\"Test case loaded\")\n",
        "    sz = test.shape[0] - conf.dim2\n",
        "    sequences = np.zeros((sz, conf.dim2, conf.dim3, conf.dim4, conf.dim5))\n",
        "    # apply the sliding window technique to get the sequences\n",
        "    for i in range(0, sz):\n",
        "        clip = np.zeros((conf.dim2, conf.dim3, conf.dim4, conf.dim5))\n",
        "        for j in range(0, conf.dim2):\n",
        "            clip[j] = test[i + j, :, :, :]\n",
        "        sequences[i] = clip\n",
        "\n",
        "    sz_10x = sequences.shape[0] - conf.dim1\n",
        "    sequences_10x = np.zeros((sz_10x, conf.dim1, conf.dim2, conf.dim3, conf.dim4, conf.dim5))\n",
        "    count = 0\n",
        "    for k in range(0, sz_10x):\n",
        "        clip_10x = np.zeros((conf.dim1, conf.dim2, conf.dim3, conf.dim4, conf.dim5))\n",
        "        for l in range(0, conf.dim1):\n",
        "            clip_10x[l] = sequences[k + l, :, :, :, :] \n",
        "        sequences_10x[k] = clip_10x\n",
        "\n",
        "    # get the reconstruction cost of all the sequences\n",
        "    reconstructed_sequences_10x = model.predict(sequences_10x,batch_size=conf.BATCH_SIZE)\n",
        "\n",
        "    #reconstruction shape = (sz_10x, 10, 16, 256, 256, 1)\n",
        "    sequences_reconstruction_cost = np.array([np.linalg.norm(np.subtract(sequences_10x[i],reconstructed_sequences[i])) for i in range(0,sz_10x)])\n",
        "    sa = (sequences_reconstruction_cost - np.min(sequences_reconstruction_cost)) / np.max(sequences_reconstruction_cost)\n",
        "    sr = 1.0 - sa\n",
        "    print(sr.shape())\n",
        "    \n",
        "    plt.plot(sr)\n",
        "    plt.ylabel('regularity score Sr(t)')\n",
        "    plt.xlabel('frame t')\n",
        "    plt.show()\n",
        "    sr = sigmoid(sr)\n",
        "    # plot the regularity scores\n",
        "    plt.plot(sr)\n",
        "    plt.ylabel('regularity score Sr(t)')\n",
        "    plt.xlabel('frame t')\n",
        "    plt.show()"
      ],
      "execution_count": 0,
      "outputs": []
    },
    {
      "cell_type": "code",
      "metadata": {
        "id": "bqgGWUrKk30t",
        "colab_type": "code",
        "colab": {}
      },
      "source": [
        "evaluate(\"Test001\")"
      ],
      "execution_count": 0,
      "outputs": []
    }
  ]
}