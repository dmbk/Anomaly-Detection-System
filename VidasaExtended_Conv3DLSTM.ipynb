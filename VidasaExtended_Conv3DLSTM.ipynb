{
  "nbformat": 4,
  "nbformat_minor": 0,
  "metadata": {
    "colab": {
      "name": "VidasaExtended-Conv3DLSTM",
      "provenance": [],
      "authorship_tag": "ABX9TyOoipqheZiO2+4fqZ3F5DPf",
      "include_colab_link": true
    },
    "kernelspec": {
      "name": "python3",
      "display_name": "Python 3"
    }
  },
  "cells": [
    {
      "cell_type": "markdown",
      "metadata": {
        "id": "view-in-github",
        "colab_type": "text"
      },
      "source": [
        "<a href=\"https://colab.research.google.com/github/dmbk/Anomaly-Detection-System/blob/master/VidasaExtended_Conv3DLSTM.ipynb\" target=\"_parent\"><img src=\"https://colab.research.google.com/assets/colab-badge.svg\" alt=\"Open In Colab\"/></a>"
      ]
    },
    {
      "cell_type": "code",
      "metadata": {
        "id": "F1mPo2Rl7x8K",
        "colab_type": "code",
        "colab": {}
      },
      "source": [
        "!pip install keras-layer-normalization\n",
        "!pip install imageio"
      ],
      "execution_count": 0,
      "outputs": []
    },
    {
      "cell_type": "code",
      "metadata": {
        "id": "0UHZdNKz8KOS",
        "colab_type": "code",
        "outputId": "68d86b3a-4448-4a27-94bd-f00103dfaee9",
        "colab": {
          "base_uri": "https://localhost:8080/",
          "height": 124
        }
      },
      "source": [
        "from google.colab import drive\n",
        "drive.mount('/content/drive', force_remount=True)"
      ],
      "execution_count": 0,
      "outputs": [
        {
          "output_type": "stream",
          "text": [
            "Go to this URL in a browser: https://accounts.google.com/o/oauth2/auth?client_id=947318989803-6bn6qk8qdgf4n4g3pfee6491hc0brc4i.apps.googleusercontent.com&redirect_uri=urn%3aietf%3awg%3aoauth%3a2.0%3aoob&response_type=code&scope=email%20https%3a%2f%2fwww.googleapis.com%2fauth%2fdocs.test%20https%3a%2f%2fwww.googleapis.com%2fauth%2fdrive%20https%3a%2f%2fwww.googleapis.com%2fauth%2fdrive.photos.readonly%20https%3a%2f%2fwww.googleapis.com%2fauth%2fpeopleapi.readonly\n",
            "\n",
            "Enter your authorization code:\n",
            "··········\n",
            "Mounted at /content/drive\n"
          ],
          "name": "stdout"
        }
      ]
    },
    {
      "cell_type": "code",
      "metadata": {
        "id": "Nge9O3wR8VVZ",
        "colab_type": "code",
        "colab": {}
      },
      "source": [
        "from __future__ import absolute_import, division, print_function, unicode_literals\n",
        "try:\n",
        "  # %tensorflow_version only exists in Colab.\n",
        "  %tensorflow_version 2.x\n",
        "except Exception:\n",
        "  pass\n",
        "import tensorflow as tf\n",
        "import glob\n",
        "import imageio\n",
        "import matplotlib.pyplot as plt\n",
        "import numpy as np\n",
        "import os\n",
        "import PIL\n",
        "from PIL import Image\n",
        "from tensorflow.keras import layers\n",
        "import time\n",
        "\n",
        "from IPython import display\n",
        "\n",
        "from os.path import join\n",
        "from os import listdir\n",
        "from os.path import isfile, join, isdir\n",
        "\n",
        "#import keras\n",
        "from tensorflow.keras.callbacks import ModelCheckpoint\n",
        "from tensorflow.keras.layers import Conv2DTranspose, Conv3DTranspose, ConvLSTM2D, BatchNormalization, LayerNormalization, TimeDistributed, Conv2D, Conv3D, MaxPool3D, Flatten, Dense, Dropout\n",
        "from tensorflow.keras.models import Sequential, load_model\n",
        "\n",
        "import matplotlib.pyplot as plt\n",
        "import argparse\n",
        "from os.path import dirname\n",
        "import cv2\n",
        "from google.colab.patches import cv2_imshow"
      ],
      "execution_count": 0,
      "outputs": []
    },
    {
      "cell_type": "code",
      "metadata": {
        "id": "RdLkLR3r8d1K",
        "colab_type": "code",
        "colab": {}
      },
      "source": [
        "class Config:\n",
        "    def __init__(self, data_dir):\n",
        "        self.DATASET_PATH = join(data_dir,\"UCSDped1/Train\")\n",
        "        self.SINGLE_TEST_PATH = join(data_dir,\"UCSDped1/Test/Test010\")\n",
        "        self.TEST_DIR = join(data_dir,\"UCSDped1/Test/\")\n",
        "        self.BATCH_SIZE = 4\n",
        "        self.EPOCHS = 3\n",
        "        self.MODEL_PATH = join(data_dir,\"model_conv3d_lstm.hdf5\")\n",
        "\n",
        "conf = Config(data_dir=\"/content/drive/My Drive/UCSD_Anomaly_Dataset.v1p2/\") \n",
        "physical_devices = tf.config.list_physical_devices('GPU') \n",
        "try: \n",
        "  tf.config.experimental.set_memory_growth(physical_devices[0], True) \n",
        "except: \n",
        "  # Invalid device or cannot modify virtual devices once initialized. \n",
        "  pass"
      ],
      "execution_count": 0,
      "outputs": []
    },
    {
      "cell_type": "code",
      "metadata": {
        "id": "vncIs43R8uYV",
        "colab_type": "code",
        "outputId": "eef0ec2e-24ed-4385-c529-a62f43109cda",
        "colab": {
          "base_uri": "https://localhost:8080/",
          "height": 851
        }
      },
      "source": [
        "def get_model(reload_model=False):\n",
        "\n",
        "    if reload_model:\n",
        "        return load_model(conf.MODEL_PATH,custom_objects={'LayerNormalization': LayerNormalization})\n",
        "    seq = Sequential()\n",
        "    seq.add(TimeDistributed(Conv3D(128, (11, 11, 11), strides=4, padding=\"same\"), batch_input_shape=(None, 10, 32, 256, 256, 1)))\n",
        "    seq.add(LayerNormalization())\n",
        "    seq.add(TimeDistributed(Conv3D(64, (5, 5, 5), strides=2, padding=\"same\")))\n",
        "    seq.add(LayerNormalization())\n",
        "    seq.add(TimeDistributed(Conv3D(32, (3, 3, 3), strides=1, padding=\"same\")))\n",
        "    seq.add(LayerNormalization())\n",
        "    # # # # #\n",
        "    seq.add(TimeDistributed(ConvLSTM2D(64, (3, 3), padding=\"same\", return_sequences=True)))\n",
        "    seq.add(LayerNormalization())\n",
        "    seq.add(TimeDistributed(ConvLSTM2D(32, (3, 3), padding=\"same\", return_sequences=True)))\n",
        "    seq.add(LayerNormalization())\n",
        "    seq.add(TimeDistributed(ConvLSTM2D(64, (3, 3), padding=\"same\", return_sequences=True)))\n",
        "    seq.add(LayerNormalization())\n",
        "    # # # # #\n",
        "    seq.add(TimeDistributed(Conv3DTranspose(32, (3, 3, 3), strides=1, padding=\"same\")))\n",
        "    seq.add(LayerNormalization())\n",
        "    seq.add(TimeDistributed(Conv3DTranspose(64, (5, 5, 5), strides=2, padding=\"same\")))\n",
        "    seq.add(LayerNormalization())\n",
        "    seq.add(TimeDistributed(Conv3DTranspose(128, (11, 11, 11), strides=4, padding=\"same\")))\n",
        "    seq.add(LayerNormalization())\n",
        "    seq.add(TimeDistributed(Conv3D(1, (11, 11, 11), activation=\"sigmoid\", padding=\"same\")))\n",
        "    print(seq.summary())\n",
        "    return seq\n",
        "\n",
        "get_model()"
      ],
      "execution_count": 0,
      "outputs": [
        {
          "output_type": "stream",
          "text": [
            "Model: \"sequential_1\"\n",
            "_________________________________________________________________\n",
            "Layer (type)                 Output Shape              Param #   \n",
            "=================================================================\n",
            "time_distributed_9 (TimeDist (None, 10, 8, 64, 64, 128 170496    \n",
            "_________________________________________________________________\n",
            "layer_normalization_9 (Layer (None, 10, 8, 64, 64, 128 256       \n",
            "_________________________________________________________________\n",
            "time_distributed_10 (TimeDis (None, 10, 4, 32, 32, 64) 1024064   \n",
            "_________________________________________________________________\n",
            "layer_normalization_10 (Laye (None, 10, 4, 32, 32, 64) 128       \n",
            "_________________________________________________________________\n",
            "time_distributed_11 (TimeDis (None, 10, 4, 32, 32, 32) 55328     \n",
            "_________________________________________________________________\n",
            "layer_normalization_11 (Laye (None, 10, 4, 32, 32, 32) 64        \n",
            "_________________________________________________________________\n",
            "time_distributed_12 (TimeDis (None, 10, 4, 32, 32, 64) 221440    \n",
            "_________________________________________________________________\n",
            "layer_normalization_12 (Laye (None, 10, 4, 32, 32, 64) 128       \n",
            "_________________________________________________________________\n",
            "time_distributed_13 (TimeDis (None, 10, 4, 32, 32, 32) 110720    \n",
            "_________________________________________________________________\n",
            "layer_normalization_13 (Laye (None, 10, 4, 32, 32, 32) 64        \n",
            "_________________________________________________________________\n",
            "time_distributed_14 (TimeDis (None, 10, 4, 32, 32, 64) 221440    \n",
            "_________________________________________________________________\n",
            "layer_normalization_14 (Laye (None, 10, 4, 32, 32, 64) 128       \n",
            "_________________________________________________________________\n",
            "time_distributed_15 (TimeDis (None, 10, 4, 32, 32, 32) 55328     \n",
            "_________________________________________________________________\n",
            "layer_normalization_15 (Laye (None, 10, 4, 32, 32, 32) 64        \n",
            "_________________________________________________________________\n",
            "time_distributed_16 (TimeDis (None, 10, 8, 64, 64, 64) 256064    \n",
            "_________________________________________________________________\n",
            "layer_normalization_16 (Laye (None, 10, 8, 64, 64, 64) 128       \n",
            "_________________________________________________________________\n",
            "time_distributed_17 (TimeDis (None, 10, 32, 256, 256,  10903680  \n",
            "_________________________________________________________________\n",
            "layer_normalization_17 (Laye (None, 10, 32, 256, 256,  256       \n",
            "_________________________________________________________________\n",
            "time_distributed_18 (TimeDis (None, 10, 32, 256, 256,  170369    \n",
            "=================================================================\n",
            "Total params: 13,190,145\n",
            "Trainable params: 13,190,145\n",
            "Non-trainable params: 0\n",
            "_________________________________________________________________\n",
            "None\n"
          ],
          "name": "stdout"
        },
        {
          "output_type": "execute_result",
          "data": {
            "text/plain": [
              "<tensorflow.python.keras.engine.sequential.Sequential at 0x7ff192c860b8>"
            ]
          },
          "metadata": {
            "tags": []
          },
          "execution_count": 15
        }
      ]
    }
  ]
}