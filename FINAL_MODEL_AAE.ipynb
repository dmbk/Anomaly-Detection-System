{
  "nbformat": 4,
  "nbformat_minor": 0,
  "metadata": {
    "colab": {
      "name": "FINAL_MODEL_AAE.ipynb",
      "provenance": [],
      "authorship_tag": "ABX9TyMhB3s3pV122rr2JxgIiKJe",
      "include_colab_link": true
    },
    "kernelspec": {
      "name": "python3",
      "display_name": "Python 3"
    }
  },
  "cells": [
    {
      "cell_type": "markdown",
      "metadata": {
        "id": "view-in-github",
        "colab_type": "text"
      },
      "source": [
        "<a href=\"https://colab.research.google.com/github/dmbk/Anomaly-Detection-System/blob/master/FINAL_MODEL_AAE.ipynb\" target=\"_parent\"><img src=\"https://colab.research.google.com/assets/colab-badge.svg\" alt=\"Open In Colab\"/></a>"
      ]
    },
    {
      "cell_type": "code",
      "metadata": {
        "id": "mOpwOqr0OL6R",
        "colab_type": "code",
        "colab": {
          "base_uri": "https://localhost:8080/",
          "height": 570
        },
        "outputId": "530cdc51-3ded-4129-be8f-b0e2e5bd6354"
      },
      "source": [
        "!pip install imageio\n",
        "#!pip install tensorflow_datasets\n",
        "!pip install keras-layer-normalization\n",
        "from google.colab import drive\n",
        "!pip install alive-progress\n",
        "drive.mount('/content/drive', force_remount=True)\n"
      ],
      "execution_count": 1,
      "outputs": [
        {
          "output_type": "stream",
          "text": [
            "Requirement already satisfied: imageio in /usr/local/lib/python3.6/dist-packages (2.4.1)\n",
            "Requirement already satisfied: pillow in /usr/local/lib/python3.6/dist-packages (from imageio) (7.0.0)\n",
            "Requirement already satisfied: numpy in /usr/local/lib/python3.6/dist-packages (from imageio) (1.18.2)\n",
            "Collecting keras-layer-normalization\n",
            "  Downloading https://files.pythonhosted.org/packages/a4/0e/d1078df0494bac9ce1a67954e5380b6e7569668f0f3b50a9531c62c1fc4a/keras-layer-normalization-0.14.0.tar.gz\n",
            "Requirement already satisfied: numpy in /usr/local/lib/python3.6/dist-packages (from keras-layer-normalization) (1.18.2)\n",
            "Requirement already satisfied: Keras in /usr/local/lib/python3.6/dist-packages (from keras-layer-normalization) (2.3.1)\n",
            "Requirement already satisfied: h5py in /usr/local/lib/python3.6/dist-packages (from Keras->keras-layer-normalization) (2.10.0)\n",
            "Requirement already satisfied: keras-applications>=1.0.6 in /usr/local/lib/python3.6/dist-packages (from Keras->keras-layer-normalization) (1.0.8)\n",
            "Requirement already satisfied: six>=1.9.0 in /usr/local/lib/python3.6/dist-packages (from Keras->keras-layer-normalization) (1.12.0)\n",
            "Requirement already satisfied: scipy>=0.14 in /usr/local/lib/python3.6/dist-packages (from Keras->keras-layer-normalization) (1.4.1)\n",
            "Requirement already satisfied: keras-preprocessing>=1.0.5 in /usr/local/lib/python3.6/dist-packages (from Keras->keras-layer-normalization) (1.1.0)\n",
            "Requirement already satisfied: pyyaml in /usr/local/lib/python3.6/dist-packages (from Keras->keras-layer-normalization) (3.13)\n",
            "Building wheels for collected packages: keras-layer-normalization\n",
            "  Building wheel for keras-layer-normalization (setup.py) ... \u001b[?25l\u001b[?25hdone\n",
            "  Created wheel for keras-layer-normalization: filename=keras_layer_normalization-0.14.0-cp36-none-any.whl size=5268 sha256=de910ca93774ff89f5118897c3200255d5b42958abf52fd7bfb3f1c2c0974bdd\n",
            "  Stored in directory: /root/.cache/pip/wheels/54/80/22/a638a7d406fd155e507aa33d703e3fa2612b9eb7bb4f4fe667\n",
            "Successfully built keras-layer-normalization\n",
            "Installing collected packages: keras-layer-normalization\n",
            "Successfully installed keras-layer-normalization-0.14.0\n",
            "Collecting alive-progress\n",
            "  Downloading https://files.pythonhosted.org/packages/fb/0f/7400d7e5a8ff783ad879f2ed6068b97f2baf304c3582f0cef9c5843842a8/alive_progress-1.4.4-py3-none-any.whl\n",
            "Installing collected packages: alive-progress\n",
            "Successfully installed alive-progress-1.4.4\n",
            "Go to this URL in a browser: https://accounts.google.com/o/oauth2/auth?client_id=947318989803-6bn6qk8qdgf4n4g3pfee6491hc0brc4i.apps.googleusercontent.com&redirect_uri=urn%3aietf%3awg%3aoauth%3a2.0%3aoob&response_type=code&scope=email%20https%3a%2f%2fwww.googleapis.com%2fauth%2fdocs.test%20https%3a%2f%2fwww.googleapis.com%2fauth%2fdrive%20https%3a%2f%2fwww.googleapis.com%2fauth%2fdrive.photos.readonly%20https%3a%2f%2fwww.googleapis.com%2fauth%2fpeopleapi.readonly\n",
            "\n",
            "Enter your authorization code:\n",
            "··········\n",
            "Mounted at /content/drive\n"
          ],
          "name": "stdout"
        }
      ]
    },
    {
      "cell_type": "code",
      "metadata": {
        "id": "-eFt6lxCTi3Q",
        "colab_type": "code",
        "colab": {
          "base_uri": "https://localhost:8080/",
          "height": 35
        },
        "outputId": "7ad76ea6-5cdb-4c83-fa57-d11e2d95149b"
      },
      "source": [
        "from __future__ import absolute_import, division, print_function, unicode_literals\n",
        "try:\n",
        "  # %tensorflow_version only exists in Colab.\n",
        "  %tensorflow_version 2.x\n",
        "except Exception:\n",
        "  pass\n",
        "\n",
        "import skimage\n",
        "import glob\n",
        "import imageio\n",
        "import matplotlib.pyplot as plt\n",
        "import numpy as np\n",
        "import os\n",
        "import PIL\n",
        "from PIL import Image\n",
        "import time\n",
        "from os.path import join\n",
        "from os import listdir\n",
        "from os.path import isfile, join, isdir\n",
        "\n",
        "#import keras\n",
        "import argparse\n",
        "from os.path import dirname\n",
        "import cv2\n",
        "from google.colab.patches import cv2_imshow\n",
        "\t\n",
        "import statistics\n",
        "\n",
        "\n",
        "import shutil\n",
        "\n",
        "import matplotlib.pyplot as plt\n",
        "\n",
        "from alive_progress import alive_bar\n",
        "\n",
        "\n",
        "import numpy as np\n",
        "from keras.models import Model, Sequential\n",
        "from keras.layers import Input, Dense, Reshape, Flatten\n",
        "from keras.layers.merge import _Merge\n",
        "from keras.layers import Conv2DTranspose, ConvLSTM2D, BatchNormalization, TimeDistributed, Conv2D, Dropout, Activation, InputLayer\n",
        "from keras.layers.normalization import BatchNormalization\n",
        "from keras.layers.advanced_activations import LeakyReLU\n",
        "from keras.optimizers import Adam\n",
        "from keras.datasets import mnist\n",
        "from keras import backend as K\n",
        "from functools import partial\n",
        "from keras_layer_normalization import LayerNormalization\n"
      ],
      "execution_count": 2,
      "outputs": [
        {
          "output_type": "stream",
          "text": [
            "Using TensorFlow backend.\n"
          ],
          "name": "stderr"
        }
      ]
    },
    {
      "cell_type": "code",
      "metadata": {
        "id": "571xSlFJUBaB",
        "colab_type": "code",
        "colab": {}
      },
      "source": [
        "class Config:\n",
        "    def __init__(self, data_dir_, cwdir_name_, data_set):\n",
        "        self.data_set_name = data_set\n",
        "        self.data_dir = data_dir_\n",
        "        self.data_set_dir = join(self.data_dir, data_set)\n",
        "        self.cwdir_name = cwdir_name_\n",
        "        self.cwdir = join(self.data_dir,self.cwdir_name)\n",
        "        self.run_data = join(self.cwdir, \"training_gan\")\n",
        "        self.image_dir = join(self.run_data,self.data_set_name,\"Test/\")\n",
        "        self.ref_model_dir = join(self.run_data, \"ref_model\")\n",
        "        if not os.path.exists(self.cwdir):\n",
        "            os.mkdir(self.cwdir)\n",
        "            os.mkdir(self.run_data)\n",
        "    \n",
        "        if not os.path.exists(self.run_data):\n",
        "            #shutil.rmtree(self.run_data)\n",
        "            os.mkdir(self.run_data)\n",
        "            os.makedirs(self.image_dir, exist_ok=True)\n",
        "            os.mkdir(self.ref_model_dir)\n",
        "\n",
        "        self.curr_epoch = 0\n",
        "        self.DATASET_PATH = join(self.data_set_dir,\"Train/\")\n",
        "        self.TEST_DIR = join(self.data_set_dir,\"Test/\")\n",
        "        self.BATCH_SIZE = 2\n",
        "        self.EPOCHS = 25\n",
        "        self.GEN_MODEL_PATH = join(self.cwdir,\"model_gen_Conv2DLSTM_GAN\")\n",
        "        self.DIS_MODEL_PATH = join(self.cwdir,\"model_dis_Conv2DLSTM_GAN\")\n",
        "\n",
        "        self.retrain = 0\n",
        "        self.curr_epoch = 1\n",
        "        self.dim1 = 10\n",
        "        self.dim2 = 256\n",
        "        self.dim3 = 256\n",
        "        self.dim4 = 1\n",
        "        self.n_critic = 5\n",
        "\n",
        "\n",
        "    def reconfig(self, new_name, batch_size = 4, epochs = 5, retrain = 0, curr_epoch = 0):\n",
        "        self.cwdir_name = new_name\n",
        "        self.cwdir = join(self.data_dir, self.cwdir_name)\n",
        "        self.run_data = join(self.cwdir, \"training_gan\")\n",
        "        self.image_dir = join(self.run_data,self.data_set_name,\"Test/\")\n",
        "        self.ref_model_dir = join(self.run_data, \"ref_model\")\n",
        "\n",
        "        self.BATCH_SIZE = batch_size\n",
        "        self.EPOCHS = epochs\n",
        "        self.GEN_MODEL_PATH = join(self.cwdir,\"model_gen_Conv2DLSTM_AAE\")\n",
        "        self.DIS_MODEL_PATH = join(self.cwdir,\"model_dis_Conv2DLSTM_AAE\")\n",
        "\n",
        "        self.curr_epoch = 0\n",
        "        self.retrain = retrain\n",
        "        if retrain == 0:\n",
        "            print(\"Configuring train from scratch\")\n",
        "            if not os.path.exists(self.cwdir):\n",
        "                os.mkdir(self.cwdir)\n",
        "                os.mkdir(self.run_data)\n",
        "    \n",
        "            if os.path.exists(self.run_data):\n",
        "                shutil.rmtree(self.run_data)\n",
        "                os.mkdir(self.run_data)\n",
        "                os.makedirs(self.image_dir, exist_ok=True)\n",
        "        else:\n",
        "            print(\"Configuring retrain mode\\n\")\n",
        "            self.final_gen_path = join(self.run_data, \"generator_ep-\"+str(curr_epoch)+\".hdf5\")\n",
        "            self.final_disc_path = join(self.run_data, \"discriminator_ep-\"+str(curr_epoch)+\".hdf5\")\n",
        "            self.final_gan_path = join(self.run_data, \"gan_ep-\"+str(curr_epoch)+\".hdf5\")\n",
        "            self.curr_epoch = curr_epoch\n",
        "            print(\"Last epoch saved : \"+str(curr_epoch))\n",
        "\n",
        "class ModelContainer:\n",
        "    def __init__(self, y0, y1):\n",
        "        self.generator = y0\n",
        "        self.discriminator = y1\n",
        "\n",
        " \n",
        "conf = Config(data_dir_=\"/content/drive/My Drive/\", cwdir_name_=\"Conv2DLSTM_AAE\", data_set=\"UCSD_Anomaly_Dataset.v1p2/UCSDped1/\") \n"
      ],
      "execution_count": 0,
      "outputs": []
    },
    {
      "cell_type": "code",
      "metadata": {
        "id": "wEre58ljoxbK",
        "colab_type": "code",
        "colab": {
          "base_uri": "https://localhost:8080/",
          "height": 1000
        },
        "outputId": "3f35b74b-734d-4a68-bbd2-d02ec78b2358"
      },
      "source": [
        "def get_generator():\n",
        "    if conf.retrain == 1 and os.path.isfile(conf.GEN_MODEL_PATH+\".json\"):\n",
        "        model_gen=load_model(conf.GEN_MODEL_PATH)\n",
        "        return model_gen\n",
        "\n",
        "    #init = keras.initializers.RandomNormal(stddev=0.02)\n",
        "    \n",
        "    print(\"Loading generator model\")\n",
        "\n",
        "    #input_shape=[conf.dim1, conf.dim2, conf.dim3, conf.dim4]\n",
        "    #X_input = Input(input_shape)\n",
        "    model = Sequential()\n",
        "    model.add(TimeDistributed(Conv2D(128, (11, 11), strides=4, kernel_initializer='he_normal', padding=\"same\", name=\"convT1\"), batch_input_shape=[None, conf.dim1, conf.dim2, conf.dim3, conf.dim4]))\n",
        "    model.add(LayerNormalization())\n",
        "    model.add(Activation(\"relu\"))\n",
        "    model.add(TimeDistributed(Conv2D(64, (5, 5), strides=2, kernel_initializer='he_normal', padding=\"same\", name=\"convT2\")))\n",
        "    model.add(LayerNormalization())\n",
        "    model.add(Activation(\"relu\"))\n",
        "    # # # # #\n",
        "    model.add(ConvLSTM2D(64, (3, 3), kernel_initializer='he_normal', padding=\"same\", return_sequences=True))\n",
        "    model.add(LayerNormalization())\n",
        "    model.add(ConvLSTM2D(32, (3, 3), kernel_initializer='he_normal', padding=\"same\", return_sequences=True))\n",
        "    model.add(LayerNormalization())\n",
        "    model.summary(line_length=150)\n",
        "    return model\n",
        "\n",
        "\n",
        "def get_decoder():\n",
        "    model = Sequential()\n",
        "    model.add(ConvLSTM2D(64, (3, 3), kernel_initializer='he_normal', padding=\"same\", return_sequences=True, batch_input_shape=[None, conf.dim1, conf.dim2, conf.dim3, conf.dim4]))\n",
        "    model.add(LayerNormalization())\n",
        "    # # # # #\n",
        "    model.add(TimeDistributed(Conv2DTranspose(64, (5, 5), strides=2, kernel_initializer='he_normal', padding=\"same\", name=\"convT3\")))\n",
        "    model.add(LayerNormalization())\n",
        "    model.add(Activation(\"relu\"))\n",
        "    model.add(TimeDistributed(Conv2DTranspose(128, (11, 11), strides=4, kernel_initializer='he_normal', padding=\"same\", name=\"convT4\")))\n",
        "    model.add(LayerNormalization())\n",
        "    model.add(Activation(\"relu\"))\n",
        "    model.add(TimeDistributed(Conv2D(1, (11, 11), activation=\"tanh\", kernel_initializer='he_normal',  padding=\"same\", name=\"convT5\"), name=\"convTD5\"))\n",
        "\n",
        "    model.summary(line_length=150)\n",
        "    return model\n",
        "\n",
        "get_generator()\n",
        "get_decoder()"
      ],
      "execution_count": 7,
      "outputs": [
        {
          "output_type": "stream",
          "text": [
            "Loading generator model\n",
            "Model: \"sequential_2\"\n",
            "______________________________________________________________________________________________________________________________________________________\n",
            "Layer (type)                                                       Output Shape                                                Param #                \n",
            "======================================================================================================================================================\n",
            "time_distributed_3 (TimeDistributed)                               (None, 10, 64, 64, 128)                                     15616                  \n",
            "______________________________________________________________________________________________________________________________________________________\n",
            "layer_normalization_5 (LayerNormalization)                         (None, 10, 64, 64, 128)                                     256                    \n",
            "______________________________________________________________________________________________________________________________________________________\n",
            "activation_3 (Activation)                                          (None, 10, 64, 64, 128)                                     0                      \n",
            "______________________________________________________________________________________________________________________________________________________\n",
            "time_distributed_4 (TimeDistributed)                               (None, 10, 32, 32, 64)                                      204864                 \n",
            "______________________________________________________________________________________________________________________________________________________\n",
            "layer_normalization_6 (LayerNormalization)                         (None, 10, 32, 32, 64)                                      128                    \n",
            "______________________________________________________________________________________________________________________________________________________\n",
            "activation_4 (Activation)                                          (None, 10, 32, 32, 64)                                      0                      \n",
            "______________________________________________________________________________________________________________________________________________________\n",
            "conv_lst_m2d_3 (ConvLSTM2D)                                        (None, 10, 32, 32, 64)                                      295168                 \n",
            "______________________________________________________________________________________________________________________________________________________\n",
            "layer_normalization_7 (LayerNormalization)                         (None, 10, 32, 32, 64)                                      128                    \n",
            "______________________________________________________________________________________________________________________________________________________\n",
            "conv_lst_m2d_4 (ConvLSTM2D)                                        (None, 10, 32, 32, 32)                                      110720                 \n",
            "______________________________________________________________________________________________________________________________________________________\n",
            "layer_normalization_8 (LayerNormalization)                         (None, 10, 32, 32, 32)                                      64                     \n",
            "======================================================================================================================================================\n",
            "Total params: 626,944\n",
            "Trainable params: 626,944\n",
            "Non-trainable params: 0\n",
            "______________________________________________________________________________________________________________________________________________________\n",
            "Model: \"sequential_3\"\n",
            "______________________________________________________________________________________________________________________________________________________\n",
            "Layer (type)                                                       Output Shape                                                Param #                \n",
            "======================================================================================================================================================\n",
            "conv_lst_m2d_5 (ConvLSTM2D)                                        (None, 10, 256, 256, 64)                                    150016                 \n",
            "______________________________________________________________________________________________________________________________________________________\n",
            "layer_normalization_9 (LayerNormalization)                         (None, 10, 256, 256, 64)                                    128                    \n",
            "______________________________________________________________________________________________________________________________________________________\n",
            "time_distributed_5 (TimeDistributed)                               (None, 10, 512, 512, 64)                                    102464                 \n",
            "______________________________________________________________________________________________________________________________________________________\n",
            "layer_normalization_10 (LayerNormalization)                        (None, 10, 512, 512, 64)                                    128                    \n",
            "______________________________________________________________________________________________________________________________________________________\n",
            "activation_5 (Activation)                                          (None, 10, 512, 512, 64)                                    0                      \n",
            "______________________________________________________________________________________________________________________________________________________\n",
            "time_distributed_6 (TimeDistributed)                               (None, 10, 2048, 2048, 128)                                 991360                 \n",
            "______________________________________________________________________________________________________________________________________________________\n",
            "layer_normalization_11 (LayerNormalization)                        (None, 10, 2048, 2048, 128)                                 256                    \n",
            "______________________________________________________________________________________________________________________________________________________\n",
            "activation_6 (Activation)                                          (None, 10, 2048, 2048, 128)                                 0                      \n",
            "______________________________________________________________________________________________________________________________________________________\n",
            "convTD5 (TimeDistributed)                                          (None, 10, 2048, 2048, 1)                                   15489                  \n",
            "======================================================================================================================================================\n",
            "Total params: 1,259,841\n",
            "Trainable params: 1,259,841\n",
            "Non-trainable params: 0\n",
            "______________________________________________________________________________________________________________________________________________________\n"
          ],
          "name": "stdout"
        },
        {
          "output_type": "execute_result",
          "data": {
            "text/plain": [
              "<keras.engine.sequential.Sequential at 0x7f920c31f358>"
            ]
          },
          "metadata": {
            "tags": []
          },
          "execution_count": 7
        }
      ]
    },
    {
      "cell_type": "code",
      "metadata": {
        "id": "0prEtmaLqGVG",
        "colab_type": "code",
        "colab": {}
      },
      "source": [
        ""
      ],
      "execution_count": 0,
      "outputs": []
    }
  ]
}