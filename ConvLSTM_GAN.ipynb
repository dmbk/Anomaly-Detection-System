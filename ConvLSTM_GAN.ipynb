{
  "nbformat": 4,
  "nbformat_minor": 0,
  "metadata": {
    "colab": {
      "name": "ConvLSTM_GAN.ipynb",
      "provenance": [],
      "machine_shape": "hm",
      "authorship_tag": "ABX9TyNxrFr5XqqVGRc36fvSuLP3",
      "include_colab_link": true
    },
    "kernelspec": {
      "name": "python3",
      "display_name": "Python 3"
    },
    "accelerator": "GPU"
  },
  "cells": [
    {
      "cell_type": "markdown",
      "metadata": {
        "id": "view-in-github",
        "colab_type": "text"
      },
      "source": [
        "<a href=\"https://colab.research.google.com/github/dmbk/Anomaly-Detection-System/blob/master/ConvLSTM_GAN.ipynb\" target=\"_parent\"><img src=\"https://colab.research.google.com/assets/colab-badge.svg\" alt=\"Open In Colab\"/></a>"
      ]
    },
    {
      "cell_type": "code",
      "metadata": {
        "id": "ZeDOtMkwIqL0",
        "colab_type": "code",
        "outputId": "aa40700a-c634-4499-ef36-2c0049782d47",
        "colab": {
          "base_uri": "https://localhost:8080/",
          "height": 186
        }
      },
      "source": [
        "!pip install imageio\n",
        "from google.colab import drive\n",
        "drive.mount('/content/drive', force_remount=True)"
      ],
      "execution_count": 3,
      "outputs": [
        {
          "output_type": "stream",
          "text": [
            "Requirement already satisfied: imageio in /usr/local/lib/python3.6/dist-packages (2.4.1)\n",
            "Requirement already satisfied: pillow in /usr/local/lib/python3.6/dist-packages (from imageio) (6.2.2)\n",
            "Requirement already satisfied: numpy in /usr/local/lib/python3.6/dist-packages (from imageio) (1.17.5)\n",
            "Go to this URL in a browser: https://accounts.google.com/o/oauth2/auth?client_id=947318989803-6bn6qk8qdgf4n4g3pfee6491hc0brc4i.apps.googleusercontent.com&redirect_uri=urn%3aietf%3awg%3aoauth%3a2.0%3aoob&response_type=code&scope=email%20https%3a%2f%2fwww.googleapis.com%2fauth%2fdocs.test%20https%3a%2f%2fwww.googleapis.com%2fauth%2fdrive%20https%3a%2f%2fwww.googleapis.com%2fauth%2fdrive.photos.readonly%20https%3a%2f%2fwww.googleapis.com%2fauth%2fpeopleapi.readonly\n",
            "\n",
            "Enter your authorization code:\n",
            "··········\n",
            "Mounted at /content/drive\n"
          ],
          "name": "stdout"
        }
      ]
    },
    {
      "cell_type": "code",
      "metadata": {
        "id": "a1qK4WayIRWG",
        "colab_type": "code",
        "outputId": "823ee779-bca2-44d9-a5e9-18df0fd6f0f0",
        "colab": {
          "base_uri": "https://localhost:8080/",
          "height": 36
        }
      },
      "source": [
        "from __future__ import absolute_import, division, print_function, unicode_literals\n",
        "try:\n",
        "  # %tensorflow_version only exists in Colab.\n",
        "  %tensorflow_version 2.x\n",
        "except Exception:\n",
        "  pass\n",
        "import tensorflow as tf\n",
        "import glob\n",
        "import imageio\n",
        "import matplotlib.pyplot as plt\n",
        "import numpy as np\n",
        "import os\n",
        "import PIL\n",
        "from PIL import Image\n",
        "from tensorflow.keras import layers\n",
        "import time\n",
        "\n",
        "from IPython import display\n",
        "\n",
        "from os.path import join\n",
        "from os import listdir\n",
        "from os.path import isfile, join, isdir\n",
        "\n",
        "#import keras\n",
        "from tensorflow.keras.callbacks import ModelCheckpoint\n",
        "from tensorflow.keras.layers import Input, Conv2DTranspose, Conv3DTranspose, ConvLSTM2D, BatchNormalization, LayerNormalization, TimeDistributed, Conv2D, Conv3D, MaxPool3D, Flatten, Dense, Dropout\n",
        "from tensorflow.keras.models import Sequential, load_model\n",
        "\n",
        "import matplotlib.pyplot as plt\n",
        "import argparse\n",
        "from os.path import dirname\n",
        "import cv2\n",
        "from google.colab.patches import cv2_imshow\n",
        "\n",
        "\n",
        "tf.keras.backend.set_floatx('float32')"
      ],
      "execution_count": 4,
      "outputs": [
        {
          "output_type": "stream",
          "text": [
            "TensorFlow 2.x selected.\n"
          ],
          "name": "stdout"
        }
      ]
    },
    {
      "cell_type": "code",
      "metadata": {
        "id": "27gwZwBqIxav",
        "colab_type": "code",
        "colab": {}
      },
      "source": [
        "class Config:\n",
        "    def __init__(self, data_dir):\n",
        "        self.DATASET_PATH = join(data_dir,\"UCSDped1/Train/\")\n",
        "        self.TEST_DIR = join(data_dir,\"UCSDped1/Test/\")\n",
        "        self.BATCH_SIZE = 4\n",
        "        self.EPOCHS = 5\n",
        "        self.GEN_MODEL_PATH = join(data_dir,\"model_gen_ConvLSTM_GAN.hdf5\")\n",
        "        self.DIS_MODEL_PATH = join(data_dir,\"model_dis_ConvLSTM_GAN.hdf5\")\n",
        "        self.GAN_MODEL_PATH = join(data_dir,\"model_combined_ConvLSTM_GAN.hdf5\")\n",
        "        self.dim1 = 10\n",
        "        self.dim2 = 256\n",
        "        self.dim3 = 256\n",
        "        self.dim4 = 1\n",
        "\n",
        "conf = Config(data_dir=\"/content/drive/My Drive/UCSD_Anomaly_Dataset.v1p2/\") \n",
        "physical_devices = tf.config.list_physical_devices('GPU') \n",
        "try: \n",
        "  tf.config.experimental.set_memory_growth(physical_devices[0], True) \n",
        "except: \n",
        "  # Invalid device or cannot modify virtual devices once initialized. \n",
        "  pass"
      ],
      "execution_count": 0,
      "outputs": []
    },
    {
      "cell_type": "code",
      "metadata": {
        "id": "5IyRNft5JKae",
        "colab_type": "code",
        "colab": {}
      },
      "source": [
        "def get_clips_by_stride(stride, frames_list, sequence_size):\n",
        "    \"\"\" For data augmenting purposes.\n",
        "    Parameters\n",
        "    ----------\n",
        "    stride : int\n",
        "        The distance between two consecutive frames\n",
        "    frames_list : list\n",
        "        A list of sorted frames of shape 256 X 256\n",
        "    sequence_size: int\n",
        "        The size of the lstm sequence\n",
        "    Returns\n",
        "    -------\n",
        "    list\n",
        "        A list of clips , 32 frames each\n",
        "    \"\"\"\n",
        "    clips = []\n",
        "    sz = len(frames_list)\n",
        "    clip = np.zeros(shape=(sequence_size, 256, 256, 1))\n",
        "    cnt = 0\n",
        "    for start in range(0, stride):\n",
        "        for i in range(start, sz, stride):\n",
        "            clip[cnt, :, :, 0] = frames_list[i]\n",
        "            cnt = cnt + 1\n",
        "            if cnt == sequence_size:\n",
        "                clips.append(clip)\n",
        "                cnt = 0\n",
        "    return clips\n",
        "\n",
        "def get_clips_list(seq_size):\n",
        "    \"\"\"\n",
        "    seq_size :int \n",
        "        The sequence size of individual clip\n",
        "    Returns\n",
        "    -------\n",
        "    list\n",
        "        A list of training sequences of shape (NUMBER_OF_SEQUENCES,SINGLE_SEQUENCE_SIZE,FRAME_WIDTH,FRAME_HEIGHT,1)\n",
        "    \"\"\"\n",
        "    clips = []\n",
        "    # loop over the training folders (Train000,Train001,..)\n",
        "    for f in sorted(listdir(conf.DATASET_PATH)):\n",
        "        directory_path = join(conf.DATASET_PATH, f)\n",
        "        if isdir(directory_path):\n",
        "            all_frames = []\n",
        "            # loop over all the images in the folder (0.tif,1.tif,..,199.tif)\n",
        "            for c in sorted(listdir(directory_path)):\n",
        "                img_path = join(directory_path, c)\n",
        "                if str(img_path)[-3:] == \"tif\":\n",
        "                    img = Image.open(img_path).resize((256, 256))\n",
        "\n",
        "                    img = np.array(img, dtype=np.float32) / 256.0\n",
        "                    all_frames.append(img)\n",
        "            # get the 32-frames sequences from the list of images after applying data augmentation\n",
        "            for stride in range(1, 4):\n",
        "                clips.extend(get_clips_by_stride(stride=stride, frames_list=all_frames, sequence_size=seq_size))\n",
        "    return clips\n",
        "\n",
        "\n",
        "def get_single_test(single_test_path, sz):\n",
        "    test = np.zeros(shape=(sz, conf.dim2, conf.dim3, conf.dim4))\n",
        "    cnt = 0\n",
        "    for f in sorted(listdir(single_test_path)):\n",
        "        if str(join(single_test_path, f))[-3:] == \"tif\":\n",
        "            img = Image.open(join(single_test_path, f)).resize((conf.dim2, conf.dim3))\n",
        "            #cv2_imshow(np.array(img,dtype=np.float32))\n",
        "            #cv2.waitKey(0)\n",
        "            img = np.array(img, dtype=np.float32) / 256\n",
        "            test[cnt, :, :, 0] = img\n",
        "            cnt = cnt + 1\n",
        "    return test\n",
        "\n",
        "def evaluate(test_case_dir, model, sz):\n",
        "\n",
        "    test = get_single_test(join(conf.TEST_DIR,test_case_dir), sz)\n",
        "    print(\"Test case loaded\")\n",
        "    sz = test.shape[0] - conf.dim1\n",
        "    sequences = np.zeros((sz, conf.dim1, conf.dim2, conf.dim3, conf.dim4))\n",
        "    # apply the sliding window technique to get the sequences\n",
        "    for i in range(0, sz):\n",
        "        clip = np.zeros((conf.dim1, conf.dim2, conf.dim3, conf.dim4))\n",
        "        for j in range(0, conf.dim1):\n",
        "            clip[j] = test[i + j, :, :, :]\n",
        "        sequences[i] = clip\n",
        "\n",
        "    #sz_10x = sequences.shape[0] - conf.dim1\n",
        "    #sequences_10x = np.zeros((sz_10x, conf.dim1, conf.dim2, conf.dim3, conf.dim4, conf.dim5))\n",
        "    #count = 0\n",
        "    #for k in range(0, sz_10x):\n",
        "    #    clip_10x = np.zeros((conf.dim1, conf.dim2, conf.dim3, conf.dim4, conf.dim5))\n",
        "    #    for l in range(0, conf.dim1):\n",
        "    #        clip_10x[l] = sequences[k + l, :, :, :, :] \n",
        "    #    sequences_10x[k] = clip_10x\n",
        "\n",
        "    # get the reconstruction cost of all the sequences\n",
        "    reconstructed_sequences = model.predict(sequences,batch_size=conf.BATCH_SIZE)\n",
        "    sr = reconstructed_sequences\n",
        "    #for i in range(0, sz):\n",
        "    #    cv2_imshow(np.reshape(reconstructed_sequences[i][0],(256, 256))*256)\n",
        "    #    cv2.waitKey()\n",
        "\n",
        "    #reconstruction shape = (10, 16, 256, 256, 1)\n",
        "    #sequences_reconstruction_cost = np.array([np.linalg.norm(np.subtract(sequences[i],reconstructed_sequences[i])) for i in range(0,sz)])\n",
        "    #sa = (sequences_reconstruction_cost - np.min(sequences_reconstruction_cost)) / np.max(sequences_reconstruction_cost)\n",
        "    #sr = 1.0 - sa\n",
        "    #print(sr.shape())\n",
        "    \n",
        "    plt.plot(sr)\n",
        "    plt.ylabel('regularity score Sr(t)')\n",
        "    plt.xlabel('frame t')\n",
        "    plt.show()\n",
        "    #sr = sigmoid(sr)\n",
        "    # plot the regularity scores\n",
        "    plt.plot(sr)\n",
        "    plt.ylabel('regularity score Sr(t)')\n",
        "    plt.xlabel('frame t')\n",
        "    plt.show()"
      ],
      "execution_count": 0,
      "outputs": []
    },
    {
      "cell_type": "code",
      "metadata": {
        "id": "QCP4CpApLacO",
        "colab_type": "code",
        "outputId": "1349ec9f-a411-4b31-cab8-51de93463d59",
        "colab": {
          "base_uri": "https://localhost:8080/",
          "height": 1000
        }
      },
      "source": [
        "\n",
        "def get_generator(reload_model=True):\n",
        "    if reload_model == True and os.path.isfile(conf.GEN_MODEL_PATH):\n",
        "        model=load_model(conf.GEN_MODEL_PATH,custom_objects={'LayerNormalization': LayerNormalization})\n",
        "        return model, True\n",
        "    print(\"Loading generator model\")\n",
        "    seq = Sequential()\n",
        "    seq.add(TimeDistributed(Conv2D(64, (11, 11), strides=(4,4), padding=\"same\"), batch_input_shape=(None, conf.dim1, conf.dim2, conf.dim3, conf.dim4)))   \n",
        "    seq.add(LayerNormalization())\n",
        "    seq.add(TimeDistributed(Conv2D(32, (5, 5), strides=(2,2), padding=\"same\")))\n",
        "    seq.add(LayerNormalization())\n",
        "\n",
        "    # # # # #\n",
        "    seq.add(ConvLSTM2D(64,(3, 3), padding=\"same\", return_sequences=True))\n",
        "    seq.add(LayerNormalization())\n",
        "    seq.add(ConvLSTM2D(32, (3, 3), padding=\"same\", return_sequences=True))\n",
        "    seq.add(LayerNormalization())\n",
        "    seq.add(ConvLSTM2D(64, (3, 3), padding=\"same\", return_sequences=True))\n",
        "    seq.add(LayerNormalization())\n",
        "    # # # # #\n",
        "\n",
        "    seq.add(TimeDistributed(Conv2DTranspose(32, (5, 5), strides=(2,2), padding=\"same\")))\n",
        "    seq.add(LayerNormalization())\n",
        "    seq.add(TimeDistributed(Conv2DTranspose(64, (11, 11), strides=(4,4), padding=\"same\")))\n",
        "    seq.add(LayerNormalization())\n",
        "    seq.add(TimeDistributed(Conv2D(1, (11, 11), activation=\"sigmoid\", padding=\"same\")))\n",
        "    optimizer = tf.keras.optimizers.RMSprop(lr=0.002, clipvalue=1.0, decay=1e-8)\n",
        "    seq.compile(optimizer=optimizer, loss='binary_crossentropy')\n",
        "    seq.summary(line_length=150)\n",
        "    return seq, False\n",
        "\n",
        "def get_discriminator(reload_model = True):\n",
        "\n",
        "    if reload_model == True and os.path.isfile(conf.DIS_MODEL_PATH):\n",
        "        model=load_model(conf.DIS_MODEL_PATH,custom_objects={'LayerNormalization': LayerNormalization})\n",
        "        return model, True\n",
        "    model = Sequential()\n",
        "    ## convolutional layers\n",
        "    model.add(Conv3D(filters=8, kernel_size=(3, 3, 3), activation='relu', data_format=\"channels_last\", padding=\"same\", batch_input_shape=(None, conf.dim1, conf.dim2, conf.dim3, conf.dim4)))\n",
        "    model.add(Conv3D(filters=16, kernel_size=(3, 3, 3), activation='relu', padding=\"same\"))\n",
        "    model.add(MaxPool3D(pool_size=(2, 2, 2)))\n",
        "\n",
        "    model.add(Conv3D(filters=32, kernel_size=(3, 3, 3), activation='relu', padding=\"same\"))\n",
        "    model.add(Conv3D(filters=64, kernel_size=(3, 3, 3), activation='relu', padding=\"same\"))\n",
        "    model.add(MaxPool3D(pool_size=(2, 2, 2)))\n",
        "\n",
        "    model.add(BatchNormalization())\n",
        "    model.add(Flatten())\n",
        "\n",
        "    ## MLP architecture with dense layers : 512 -> 128->1\n",
        "    ## add dropouts to avoid overfitting / perform regularization\n",
        "    model.add(Dense(units=128, activation='relu'))\n",
        "    model.add(Dropout(0.4))    \n",
        "    model.add(Dense(units=1, activation='sigmoid'))\n",
        "    optimizer = tf.keras.optimizers.RMSprop(lr=0.002, clipvalue=1.0, decay=1e-8)\n",
        "    #model.compile(optimizer=optimizer, loss='binary_crossentropy')\n",
        "    model.compile(loss='binary_crossentropy', optimizer=optimizer,metrics=['accuracy'])\n",
        "    model.summary(line_length=150)\n",
        "    return model, False\n",
        "\n",
        "\n",
        "\n",
        "\n",
        "\n",
        "#https://medium.com/analytics-vidhya/implementing-a-gan-in-keras-d6c36bc6ab5f   \n",
        "#https://www.dlology.com/blog/how-to-do-novelty-detection-in-keras-with-generative-adversarial-network/\n",
        "#https://arxiv.org/pdf/1802.09088.pdf\n",
        "get_generator(False)\n",
        "get_discriminator(False)"
      ],
      "execution_count": 7,
      "outputs": [
        {
          "output_type": "stream",
          "text": [
            "Loading generator model\n",
            "Model: \"sequential\"\n",
            "______________________________________________________________________________________________________________________________________________________\n",
            "Layer (type)                                                       Output Shape                                                Param #                \n",
            "======================================================================================================================================================\n",
            "time_distributed (TimeDistributed)                                 (None, 10, 64, 64, 64)                                      7808                   \n",
            "______________________________________________________________________________________________________________________________________________________\n",
            "layer_normalization (LayerNormalization)                           (None, 10, 64, 64, 64)                                      128                    \n",
            "______________________________________________________________________________________________________________________________________________________\n",
            "time_distributed_1 (TimeDistributed)                               (None, 10, 32, 32, 32)                                      51232                  \n",
            "______________________________________________________________________________________________________________________________________________________\n",
            "layer_normalization_1 (LayerNormalization)                         (None, 10, 32, 32, 32)                                      64                     \n",
            "______________________________________________________________________________________________________________________________________________________\n",
            "conv_lst_m2d (ConvLSTM2D)                                          (None, 10, 32, 32, 64)                                      221440                 \n",
            "______________________________________________________________________________________________________________________________________________________\n",
            "layer_normalization_2 (LayerNormalization)                         (None, 10, 32, 32, 64)                                      128                    \n",
            "______________________________________________________________________________________________________________________________________________________\n",
            "conv_lst_m2d_1 (ConvLSTM2D)                                        (None, 10, 32, 32, 32)                                      110720                 \n",
            "______________________________________________________________________________________________________________________________________________________\n",
            "layer_normalization_3 (LayerNormalization)                         (None, 10, 32, 32, 32)                                      64                     \n",
            "______________________________________________________________________________________________________________________________________________________\n",
            "conv_lst_m2d_2 (ConvLSTM2D)                                        (None, 10, 32, 32, 64)                                      221440                 \n",
            "______________________________________________________________________________________________________________________________________________________\n",
            "layer_normalization_4 (LayerNormalization)                         (None, 10, 32, 32, 64)                                      128                    \n",
            "______________________________________________________________________________________________________________________________________________________\n",
            "time_distributed_2 (TimeDistributed)                               (None, 10, 64, 64, 32)                                      51232                  \n",
            "______________________________________________________________________________________________________________________________________________________\n",
            "layer_normalization_5 (LayerNormalization)                         (None, 10, 64, 64, 32)                                      64                     \n",
            "______________________________________________________________________________________________________________________________________________________\n",
            "time_distributed_3 (TimeDistributed)                               (None, 10, 256, 256, 64)                                    247872                 \n",
            "______________________________________________________________________________________________________________________________________________________\n",
            "layer_normalization_6 (LayerNormalization)                         (None, 10, 256, 256, 64)                                    128                    \n",
            "______________________________________________________________________________________________________________________________________________________\n",
            "time_distributed_4 (TimeDistributed)                               (None, 10, 256, 256, 1)                                     7745                   \n",
            "======================================================================================================================================================\n",
            "Total params: 920,193\n",
            "Trainable params: 920,193\n",
            "Non-trainable params: 0\n",
            "______________________________________________________________________________________________________________________________________________________\n",
            "Model: \"sequential_1\"\n",
            "______________________________________________________________________________________________________________________________________________________\n",
            "Layer (type)                                                       Output Shape                                                Param #                \n",
            "======================================================================================================================================================\n",
            "conv3d (Conv3D)                                                    (None, 10, 256, 256, 8)                                     224                    \n",
            "______________________________________________________________________________________________________________________________________________________\n",
            "conv3d_1 (Conv3D)                                                  (None, 10, 256, 256, 16)                                    3472                   \n",
            "______________________________________________________________________________________________________________________________________________________\n",
            "max_pooling3d (MaxPooling3D)                                       (None, 5, 128, 128, 16)                                     0                      \n",
            "______________________________________________________________________________________________________________________________________________________\n",
            "conv3d_2 (Conv3D)                                                  (None, 5, 128, 128, 32)                                     13856                  \n",
            "______________________________________________________________________________________________________________________________________________________\n",
            "conv3d_3 (Conv3D)                                                  (None, 5, 128, 128, 64)                                     55360                  \n",
            "______________________________________________________________________________________________________________________________________________________\n",
            "max_pooling3d_1 (MaxPooling3D)                                     (None, 2, 64, 64, 64)                                       0                      \n",
            "______________________________________________________________________________________________________________________________________________________\n",
            "batch_normalization (BatchNormalization)                           (None, 2, 64, 64, 64)                                       256                    \n",
            "______________________________________________________________________________________________________________________________________________________\n",
            "flatten (Flatten)                                                  (None, 524288)                                              0                      \n",
            "______________________________________________________________________________________________________________________________________________________\n",
            "dense (Dense)                                                      (None, 128)                                                 67108992               \n",
            "______________________________________________________________________________________________________________________________________________________\n",
            "dropout (Dropout)                                                  (None, 128)                                                 0                      \n",
            "______________________________________________________________________________________________________________________________________________________\n",
            "dense_1 (Dense)                                                    (None, 1)                                                   129                    \n",
            "======================================================================================================================================================\n",
            "Total params: 67,182,289\n",
            "Trainable params: 67,182,161\n",
            "Non-trainable params: 128\n",
            "______________________________________________________________________________________________________________________________________________________\n"
          ],
          "name": "stdout"
        },
        {
          "output_type": "execute_result",
          "data": {
            "text/plain": [
              "(<tensorflow.python.keras.engine.sequential.Sequential at 0x7f34db475668>,\n",
              " False)"
            ]
          },
          "metadata": {
            "tags": []
          },
          "execution_count": 7
        }
      ]
    },
    {
      "cell_type": "code",
      "metadata": {
        "id": "1H9pUAm46jls",
        "colab_type": "code",
        "colab": {}
      },
      "source": [
        "\n",
        "\n",
        "def train(generator, discriminator):\n",
        "    discriminator.trainable = False\n",
        "    optimizer = tf.keras.optimizers.RMSprop(lr=0.002, clipvalue=1.0, decay=1e-8)\n",
        "    gan_input = Input(shape=(conf.dim1, conf.dim2, conf.dim3, conf.dim4))\n",
        "    fake_image = generator(gan_input)\n",
        "    \n",
        "    gan_output = discriminator(fake_image)\n",
        "    \n",
        "    gan = tf.keras.Model(gan_input, gan_output)\n",
        "    gan.compile(loss='binary_crossentropy', optimizer=optimizer)\n",
        "    \n",
        "    train_dataset = tf.data.Dataset.from_tensor_slices(np.array(get_clips_list(conf.dim1))).batch(conf.BATCH_SIZE)\n",
        "    for epoch in range(conf.EPOCHS):\n",
        "        for batch in train_dataset:\n",
        "            noise = batch + np.random.normal(0, 1, size=(conf.BATCH_SIZE, conf.dim1, conf.dim2, conf.dim3, conf.dim4))\n",
        "            fake_x = generator.predict(noise)\n",
        "    \n",
        "            real_x = batch\n",
        "            \n",
        "            x = np.concatenate((real_x, fake_x))\n",
        "    \n",
        "            disc_y = np.zeros(2*conf.BATCH_SIZE)\n",
        "            disc_y[:conf.BATCH_SIZE] = 0.9\n",
        "    \n",
        "            d_loss = discriminator.train_on_batch(x, disc_y)\n",
        "    \n",
        "            y_gen = np.ones(conf.BATCH_SIZE)\n",
        "            g_loss = gan.train_on_batch(noise, y_gen)\n",
        "        gan.reset_states()\n",
        "        print(f'Epoch: {epoch} \\t Discriminator Loss: {d_loss} \\t\\t Generator Loss: {g_loss}')\n",
        "    \n",
        "    generator.save(conf.GEN_MODEL_PATH,save_format='h5')\n",
        "    discriminator.save(conf.DIS_MODEL_PATH,save_format='h5')\n",
        "    gan.save(conf.GAN_MODEL_PATH, save_format='h5')\n",
        "    return gan"
      ],
      "execution_count": 0,
      "outputs": []
    },
    {
      "cell_type": "code",
      "metadata": {
        "id": "eC7JERZTIi3M",
        "colab_type": "code",
        "colab": {
          "base_uri": "https://localhost:8080/",
          "height": 560
        },
        "outputId": "061b43dc-1afa-4dad-a1c1-6677bf6db727"
      },
      "source": [
        "\n",
        "if os.path.isfile(conf.GAN_MODEL_PATH):\n",
        "    model=load_model(conf.GAN_MODEL_PATH,custom_objects={'LayerNormalization': LayerNormalization})\n",
        "else :\n",
        "    discriminator, loaded_dis = get_discriminator()\n",
        "    generator, loaded_gen= get_generator()\n",
        "    model = train(generator, discriminator)\n",
        "\n",
        "evaluate(\"Test002\", model, 200)"
      ],
      "execution_count": 11,
      "outputs": [
        {
          "output_type": "stream",
          "text": [
            "Test case loaded\n"
          ],
          "name": "stdout"
        },
        {
          "output_type": "display_data",
          "data": {
            "image/png": "[encoded data removed]",
            "text/plain": [
              "<Figure size 432x288 with 1 Axes>"
            ]
          },
          "metadata": {
            "tags": []
          }
        },
        {
          "output_type": "display_data",
          "data": {
            "image/png": "[encoded data removed]",
            "text/plain": [
              "<Figure size 432x288 with 1 Axes>"
            ]
          },
          "metadata": {
            "tags": []
          }
        }
      ]
    }
  ]
}